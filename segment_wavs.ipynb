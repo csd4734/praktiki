{
 "cells": [
  {
   "cell_type": "code",
   "execution_count": 2,
   "metadata": {},
   "outputs": [
    {
     "name": "stdout",
     "output_type": "stream",
     "text": [
      "numpy version:  1.26.4\n"
     ]
    }
   ],
   "source": [
    "import os\n",
    "import numpy as np\n",
    "print(\"numpy version: \", np.__version__)\n",
    "import matplotlib.pyplot as plt\n",
    "import librosa\n",
    "import audiofile as af\n",
    "import json\n",
    "import soundfile as sf\n",
    "import pandas as pd"
   ]
  },
  {
   "cell_type": "code",
   "execution_count": 3,
   "metadata": {},
   "outputs": [
    {
     "name": "stdout",
     "output_type": "stream",
     "text": [
      "1949\n",
      "{'41283394_2.8_1_p4_2814.json': {'record_annotation': 'Normal', 'event_annotation': [{'start': '1405', 'end': '2683', 'type': 'Normal'}, {'start': '2827', 'end': '4142', 'type': 'Normal'}, {'start': '4250', 'end': '5728', 'type': 'Normal'}, {'start': '5894', 'end': '7153', 'type': 'Normal'}, {'start': '7686', 'end': '9075', 'type': 'Normal'}]}}\n"
     ]
    }
   ],
   "source": [
    "# go into each json file in the directory and extract the data into a df and create rows with each label at event level with id the id of the subject\n",
    "\n",
    "# get the list of json files\n",
    "def read_json_files(directory):\n",
    "    json_files = [f for f in os.listdir(directory) if f.endswith('.json')]\n",
    "\n",
    "    list_of_dicts = []\n",
    "    \n",
    "\n",
    "    # Loop through each JSON file and load its content into the dictionary\n",
    "    for json_file in json_files:\n",
    "        file_path = os.path.join(directory, json_file)\n",
    "        with open(file_path, 'r', encoding='utf-8') as f:\n",
    "            data_dict = {}\n",
    "            data = json.load(f)\n",
    "            data_dict[json_file] = data\n",
    "            list_of_dicts.append(data_dict)\n",
    "\n",
    "    return json_files,data_dict,list_of_dicts\n",
    "\n",
    "# Specify your directory here\n",
    "directory_path = 'train_classification_json'\n",
    "_,_,train_json_list = read_json_files(directory_path)\n",
    "\n",
    "# print(len(lala))\n",
    "print(len(train_json_list))\n",
    "print(train_json_list[5])"
   ]
  },
  {
   "cell_type": "code",
   "execution_count": 4,
   "metadata": {},
   "outputs": [
    {
     "name": "stdout",
     "output_type": "stream",
     "text": [
      "355\n",
      "379\n",
      "1949\n",
      "734\n"
     ]
    }
   ],
   "source": [
    "# Specify your directory here\n",
    "directory_path = 'test_classification_json/2022/inter_test_json'\n",
    "_,_,inter_test_json_list = read_json_files(directory_path)\n",
    "print(len(inter_test_json_list))\n",
    "\n",
    "# Specify your directory here\n",
    "directory_path = 'test_classification_json/2022/intra_test_json'\n",
    "_,_,intra_test_json_list = read_json_files(directory_path)\n",
    "print(len(intra_test_json_list))\n",
    "\n",
    "def get_wav_files(directory):\n",
    "    wav_files = [os.path.join(directory, f) for f in os.listdir(directory) if f.endswith('.wav')]\n",
    "    return wav_files\n",
    "\n",
    "train_wav_list=get_wav_files('train_classification_wav')\n",
    "print(len(train_wav_list))\n",
    "test_wav_list=get_wav_files('test_classification_wav/2022')\n",
    "print(len(test_wav_list))"
   ]
  },
  {
   "cell_type": "code",
   "execution_count": 5,
   "metadata": {},
   "outputs": [],
   "source": [
    "# resample all the wav files to 4k into new folders\n",
    "def resample_wav_files(wav_files, new_folder):\n",
    "    for wav_file in wav_files:\n",
    "        y, sr = librosa.load(wav_file)\n",
    "        y_4k = librosa.resample(y, orig_sr=sr, target_sr=4000)\n",
    "        new_wav_file = os.path.join(new_folder, os.path.basename(wav_file))\n",
    "        af.write(new_wav_file, y_4k, 4000, format='wav')\n",
    "\n",
    "resample_wav_files(train_wav_list, 'train_classification_wav_4k')\n",
    "resample_wav_files(test_wav_list, 'test_classification_wav_4k')\n"
   ]
  },
  {
   "cell_type": "code",
   "execution_count": 6,
   "metadata": {},
   "outputs": [
    {
     "name": "stdout",
     "output_type": "stream",
     "text": [
      "1949\n",
      "734\n",
      "4000\n"
     ]
    }
   ],
   "source": [
    "# get the list of wav files\n",
    "def get_wav_files(directory):\n",
    "    wav_files = [os.path.join(directory, f) for f in os.listdir(directory) if f.endswith('.wav')]\n",
    "    return wav_files\n",
    "\n",
    "train_wav_list=get_wav_files('train_classification_wav_4k')\n",
    "print(len(train_wav_list))\n",
    "\n",
    "test_wav_list=get_wav_files('test_classification_wav_4k')\n",
    "print(len(test_wav_list))\n",
    "# check the sampling rate of one of the files\n",
    "# read a wav file using audiofile\n",
    "y, sr = af.read(train_wav_list[2])\n",
    "print(sr)\n"
   ]
  },
  {
   "cell_type": "code",
   "execution_count": 7,
   "metadata": {},
   "outputs": [
    {
     "name": "stdout",
     "output_type": "stream",
     "text": [
      "The mean duration of the training files is:  10.849685608004101\n",
      "The mean duration of the test files is:  11.244708787465939\n",
      "The max duration of the training files is:  15.3655\n",
      "The max duration of the test files is:  15.3655\n",
      "The min duration of the training files is:  0.30975\n",
      "The min duration of the test files is:  9.18975\n"
     ]
    }
   ],
   "source": [
    "# calculae the duration of the wav files without using librosa\n",
    "def get_duration(wav_file):\n",
    "    with open(wav_file, 'rb') as f:\n",
    "        f.seek(0, 2)\n",
    "        num_frames = int(f.tell()/2)\n",
    "        duration = num_frames / 4000\n",
    "    return duration\n",
    "\n",
    "# calculate the duration of all the wav files\n",
    "def get_durations(wav_files):\n",
    "    durations = []\n",
    "    for wav_file in wav_files:\n",
    "        duration = get_duration(wav_file)\n",
    "        durations.append(duration)\n",
    "    return durations\n",
    "\n",
    "train_durations = get_durations(train_wav_list)\n",
    "test_durations = get_durations(test_wav_list)\n",
    "\n",
    "print(\"The mean duration of the training files is: \", np.mean(train_durations))\n",
    "print(\"The mean duration of the test files is: \", np.mean(test_durations))\n",
    "\n",
    "print(\"The max duration of the training files is: \", np.max(train_durations))\n",
    "print(\"The max duration of the test files is: \", np.max(test_durations))\n",
    "\n",
    "print(\"The min duration of the training files is: \", np.min(train_durations))\n",
    "print(\"The min duration of the test files is: \", np.min(test_durations))"
   ]
  },
  {
   "cell_type": "code",
   "execution_count": 8,
   "metadata": {},
   "outputs": [
    {
     "data": {
      "image/png": "[encoded data removed]",
      "text/plain": [
       "<Figure size 640x480 with 1 Axes>"
      ]
     },
     "metadata": {},
     "output_type": "display_data"
    },
    {
     "name": "stdout",
     "output_type": "stream",
     "text": [
      "The most common duration of the training files is:  9.22175\n",
      "The most common duration of the test files is:  9.22175\n",
      "The unique durations of the training files are:  [ 0.30975  8.51775  9.22175 15.3655 ]\n",
      "The unique durations of the test files are:  [ 9.18975  9.22175 10.30975 12.37375 15.3655 ]\n"
     ]
    }
   ],
   "source": [
    "# plot a histogram of the durations\n",
    "plt.figure()\n",
    "plt.hist(train_durations, bins=50, alpha=0.5, label='train')\n",
    "plt.hist(test_durations, bins=50, alpha=0.5, label='test')\n",
    "plt.legend(loc='upper right')\n",
    "plt.xlabel('Duration (s)')\n",
    "plt.ylabel('Count')\n",
    "plt.title('Histogram of durations')\n",
    "plt.show()\n",
    "\n",
    "# calculate me the most durations of the files\n",
    "def get_most_common_duration(durations):\n",
    "    unique_durations, counts = np.unique(durations, return_counts=True)\n",
    "    most_common_duration = unique_durations[np.argmax(counts)]\n",
    "    return most_common_duration,unique_durations\n",
    "\n",
    "train_most_common_duration,train_unique = get_most_common_duration(train_durations)\n",
    "test_most_common_duration,test_unique = get_most_common_duration(test_durations)\n",
    "\n",
    "print(\"The most common duration of the training files is: \", train_most_common_duration)\n",
    "print(\"The most common duration of the test files is: \", test_most_common_duration)\n",
    "\n",
    "print(\"The unique durations of the training files are: \", train_unique)\n",
    "print(\"The unique durations of the test files are: \", test_unique)"
   ]
  },
  {
   "cell_type": "code",
   "execution_count": 9,
   "metadata": {},
   "outputs": [],
   "source": [
    "import math\n",
    "# now as you can see the json files have a field which is like this:\"event_annotation\": [{\"start\": \"1079\", \"end\": \"4933\", \"type\": \"Normal\"}].I want you to access all the training wav files and segment them as the json file says.Then save them in a new directory with an addition to the name for example seg1,seg2 etc\n",
    "def create_segmented_wav_files(wav_file, json_file, output_directory):\n",
    "    # Load the annotations from the JSON file\n",
    "    with open(json_file, 'r') as f:\n",
    "        annotations = json.load(f)['event_annotation']\n",
    "    \n",
    "    # Load the WAV file\n",
    "    y, sr = af.read(wav_file)\n",
    "    \n",
    "    # Get the base filename without extension\n",
    "    base_filename = os.path.splitext(os.path.basename(wav_file))[0]\n",
    "    \n",
    "    # Process each annotation and save the corresponding segment\n",
    "    for i, annotation in enumerate(annotations):\n",
    "        start_ms = int(annotation['start'])\n",
    "        end_ms = int(annotation['end'])\n",
    "        start_sample= int(start_ms * sr / 1000)\n",
    "        end_sample = int(end_ms * sr / 1000)\n",
    "        \n",
    "        # Extract the segment\n",
    "        segment = y[start_sample:end_sample]\n",
    "        \n",
    "        # Create the output filename and also add the label that is in the json file\n",
    "        output_filename = f\"{base_filename}_seg{i+1}_{annotation['type']}.wav\"\n",
    "        output_path = os.path.join(output_directory, output_filename)\n",
    "        \n",
    "        # Save the segment as a new WAV file\n",
    "        sf.write(output_path, segment, sr)\n",
    "        # print(f\"Saved segment {i+1} to {output_path}\")\n",
    "\n"
   ]
  },
  {
   "cell_type": "code",
   "execution_count": 10,
   "metadata": {},
   "outputs": [],
   "source": [
    "delete_files = [f for f in os.listdir('splitted_training') if f.endswith('.wav')]\n",
    "for f in delete_files:\n",
    "    os.remove(os.path.join('splitted_training', f))\n",
    "\n",
    "delete_files = [f for f in os.listdir('splitted_inter_testing') if f.endswith('.wav')]\n",
    "for f in delete_files:\n",
    "    os.remove(os.path.join('splitted_inter_testing', f))\n",
    "\n",
    "delete_files = [f for f in os.listdir('splitted_intra_testing') if f.endswith('.wav')]\n",
    "for f in delete_files:\n",
    "    os.remove(os.path.join('splitted_intra_testing', f))"
   ]
  },
  {
   "cell_type": "code",
   "execution_count": 11,
   "metadata": {},
   "outputs": [],
   "source": [
    "# now for every wav file in the directory create the segments\n",
    "for wav_file in train_wav_list:\n",
    "    # Get the corresponding JSON file\n",
    "    json_file = os.path.join('train_classification_json', os.path.splitext(os.path.basename(wav_file))[0] + '.json')\n",
    "    \n",
    "    # Create the segmented WAV files\n",
    "    create_segmented_wav_files(wav_file, json_file, 'splitted_training')"
   ]
  },
  {
   "cell_type": "code",
   "execution_count": 12,
   "metadata": {},
   "outputs": [
    {
     "name": "stdout",
     "output_type": "stream",
     "text": [
      "6656\n",
      "The mean duration of the training files is: 1.284\n",
      "The max duration of the training files is: 7.157\n",
      "The min duration of the training files is: 0.132\n"
     ]
    }
   ],
   "source": [
    "train_wav_list_splitted=get_wav_files('splitted_training')\n",
    "print(len(train_wav_list_splitted))\n",
    "train_durations = get_durations(train_wav_list_splitted)\n",
    "\n",
    "print(f\"The mean duration of the training files is: {np.mean(train_durations):.3f}\")\n",
    "\n",
    "print(f\"The max duration of the training files is: {np.max(train_durations):.3f}\")\n",
    "\n",
    "print(f\"The min duration of the training files is: {np.min(train_durations):.3f}\")\n"
   ]
  },
  {
   "cell_type": "code",
   "execution_count": 13,
   "metadata": {},
   "outputs": [
    {
     "data": {
      "image/png": "[encoded data removed]",
      "text/plain": [
       "<Figure size 640x480 with 1 Axes>"
      ]
     },
     "metadata": {},
     "output_type": "display_data"
    },
    {
     "name": "stdout",
     "output_type": "stream",
     "text": [
      "The most common duration of the training files is:  1.0485\n",
      "The most common duration of the test files is:  9.22175\n",
      "The unique durations of the training files are:  [0.1315 0.1425 0.1445 ... 5.7075 6.8745 7.1575]\n",
      "The unique durations of the test files are:  [ 9.18975  9.22175 10.30975 12.37375 15.3655 ]\n"
     ]
    }
   ],
   "source": [
    "# plot a histogram of the durations\n",
    "plt.figure()\n",
    "plt.hist(train_durations, bins=50, alpha=0.5, label='train')\n",
    "plt.xlabel('Duration (s)')\n",
    "plt.ylabel('Count')\n",
    "plt.title('Histogram of durations')\n",
    "plt.show()\n",
    "\n",
    "# calculate me the most durations of the files\n",
    "def get_most_common_duration(durations):\n",
    "    unique_durations, counts = np.unique(durations, return_counts=True)\n",
    "    most_common_duration = unique_durations[np.argmax(counts)]\n",
    "    return most_common_duration,unique_durations\n",
    "\n",
    "train_most_common_duration,train_unique = get_most_common_duration(train_durations)\n",
    "test_most_common_duration,test_unique = get_most_common_duration(test_durations)\n",
    "\n",
    "print(\"The most common duration of the training files is: \", train_most_common_duration)\n",
    "print(\"The most common duration of the test files is: \", test_most_common_duration)\n",
    "\n",
    "print(\"The unique durations of the training files are: \", train_unique)\n",
    "print(\"The unique durations of the test files are: \", test_unique)"
   ]
  },
  {
   "cell_type": "code",
   "execution_count": 14,
   "metadata": {},
   "outputs": [],
   "source": [
    "# now for every wav file in the directory create the segments\n",
    "for wav_file in test_wav_list:\n",
    "    # Get the corresponding JSON file\n",
    "    json_file = os.path.join('train_classification_json', os.path.splitext(os.path.basename(wav_file))[0] + '.json')\n",
    "    # check if the json file exists in a specific directory\n",
    "    if not os.path.exists(json_file):\n",
    "        json_file = os.path.join('test_classification_json/2022/inter_test_json', os.path.splitext(os.path.basename(wav_file))[0] + '.json')\n",
    "        if not os.path.exists(json_file):\n",
    "            json_file = os.path.join('test_classification_json/2022/intra_test_json', os.path.splitext(os.path.basename(wav_file))[0] + '.json')\n",
    "    # # Create the segmented WAV files\n",
    "    # create_segmented_wav_files(wav_file, json_file, 'splitted_training')\n",
    "    # check if it is intraa or inter \n",
    "    if 'inter' in json_file:\n",
    "        create_segmented_wav_files(wav_file, json_file, 'splitted_inter_testing')\n",
    "    elif 'intra' in json_file:\n",
    "        create_segmented_wav_files(wav_file, json_file, 'splitted_intra_testing')\n",
    "    # else:\n",
    "    #     create_segmented_wav_files(wav_file, json_file, 'splitted_test')"
   ]
  },
  {
   "cell_type": "code",
   "execution_count": 15,
   "metadata": {},
   "outputs": [
    {
     "name": "stdout",
     "output_type": "stream",
     "text": [
      "1429\n",
      "The mean duration of the training files is: 1.401\n",
      "The max duration of the training files is: 4.973\n",
      "The min duration of the training files is: 0.247\n"
     ]
    }
   ],
   "source": [
    "test_inter_wav_list_splitted=get_wav_files('splitted_inter_testing')\n",
    "print(len(test_inter_wav_list_splitted))\n",
    "test_inter_durations = get_durations(test_inter_wav_list_splitted)\n",
    "\n",
    "print(f\"The mean duration of the training files is: {np.mean(test_inter_durations):.3f}\")\n",
    "\n",
    "print(f\"The max duration of the training files is: {np.max(test_inter_durations):.3f}\")\n",
    "\n",
    "print(f\"The min duration of the training files is: {np.min(test_inter_durations):.3f}\")"
   ]
  },
  {
   "cell_type": "code",
   "execution_count": 16,
   "metadata": {},
   "outputs": [
    {
     "name": "stdout",
     "output_type": "stream",
     "text": [
      "1004\n",
      "The mean duration of the training files is: 1.336\n",
      "The max duration of the training files is: 5.670\n",
      "The min duration of the training files is: 0.237\n"
     ]
    }
   ],
   "source": [
    "test_intra_wav_list_splitted=get_wav_files('splitted_intra_testing')\n",
    "print(len(test_intra_wav_list_splitted))\n",
    "test_intra_durations = get_durations(test_intra_wav_list_splitted)\n",
    "\n",
    "print(f\"The mean duration of the training files is: {np.mean(test_intra_durations):.3f}\")\n",
    "\n",
    "print(f\"The max duration of the training files is: {np.max(test_intra_durations):.3f}\")\n",
    "\n",
    "print(f\"The min duration of the training files is: {np.min(test_intra_durations):.3f}\")"
   ]
  },
  {
   "cell_type": "code",
   "execution_count": 17,
   "metadata": {},
   "outputs": [
    {
     "name": "stdout",
     "output_type": "stream",
     "text": [
      "The mean duration of all durations is: 1.308\n",
      "The max duration of all durations is: 7.157\n",
      "The min duration of all durations is: 0.132\n"
     ]
    }
   ],
   "source": [
    "print(f\"The mean duration of all durations is: {np.mean(train_durations + test_inter_durations + test_intra_durations):.3f}\")\n",
    "\n",
    "print(f\"The max duration of all durations is: {np.max(train_durations + test_inter_durations + test_intra_durations):.3f}\")\n",
    "\n",
    "print(f\"The min duration of all durations is: {np.min(train_durations + test_inter_durations + test_intra_durations):.3f}\")"
   ]
  },
  {
   "cell_type": "code",
   "execution_count": 18,
   "metadata": {},
   "outputs": [
    {
     "name": "stdout",
     "output_type": "stream",
     "text": [
      "[-0.00323486 -0.00265503 -0.0020752  ... -0.00091553 -0.00036621\n",
      "  0.00012207]\n",
      "['Normal', 'Normal', 'Normal', 'Normal', 'Normal', 'Normal', 'Normal', 'Fine Crackle', 'Normal', 'Normal', 'Normal', 'Normal', 'Fine Crackle', 'Normal', 'Normal', 'Normal', 'Normal', 'Normal', 'Fine Crackle', 'Normal', 'Normal', 'Normal', 'Normal', 'Normal', 'Fine Crackle', 'Normal', 'Normal', 'Fine Crackle', 'Fine Crackle', 'Normal', 'Wheeze', 'Normal', 'Normal', 'Normal', 'Wheeze', 'Normal', 'Normal', 'Normal', 'Normal', 'Normal', 'Normal', 'Normal', 'Normal', 'Normal', 'Normal', 'Normal', 'Fine Crackle', 'Normal', 'Normal', 'Normal', 'Wheeze', 'Normal', 'Normal', 'Wheeze', 'Normal', 'Wheeze', 'Normal', 'Fine Crackle', 'Fine Crackle', 'Normal', 'Fine Crackle', 'Normal', 'Normal', 'Wheeze', 'Normal', 'Fine Crackle', 'Normal', 'Normal', 'Normal', 'Normal', 'Normal', 'Normal', 'Normal', 'Normal', 'Normal', 'Normal', 'Normal', 'Normal', 'Normal', 'Normal', 'Normal', 'Normal', 'Normal', 'Normal', 'Fine Crackle', 'Normal', 'Normal', 'Normal', 'Normal', 'Normal', 'Normal', 'Normal', 'Coarse Crackle', 'Normal', 'Fine Crackle', 'Wheeze', 'Normal', 'Normal', 'Wheeze', 'Normal', 'Normal', 'Normal', 'Normal', 'Normal', 'Normal', 'Normal', 'Wheeze', 'Normal', 'Normal', 'Normal', 'Fine Crackle', 'Fine Crackle', 'Normal', 'Wheeze', 'Normal', 'Wheeze', 'Normal', 'Fine Crackle', 'Normal', 'Normal', 'Normal', 'Normal', 'Normal', 'Normal', 'Fine Crackle', 'Normal', 'Normal', 'Normal', 'Normal', 'Normal', 'Normal', 'Fine Crackle', 'Fine Crackle', 'Normal', 'Normal', 'Normal', 'Normal', 'Normal', 'Normal', 'Wheeze', 'Fine Crackle', 'Normal', 'Normal', 'Normal', 'Normal', 'Normal', 'Normal', 'Fine Crackle', 'Normal', 'Normal', 'Normal', 'Normal', 'Normal', 'Normal', 'Normal', 'Normal', 'Normal', 'Normal', 'Normal', 'Normal', 'Normal', 'Normal', 'Normal', 'Normal', 'Normal', 'Normal', 'Normal', 'Normal', 'Normal', 'Normal', 'Wheeze', 'Normal', 'Normal', 'Normal', 'Fine Crackle', 'Normal', 'Normal', 'Normal', 'Normal', 'Normal', 'Normal', 'Normal', 'Normal', 'Normal', 'Normal', 'Normal', 'Fine Crackle', 'Wheeze', 'Fine Crackle', 'Normal', 'Normal', 'Normal', 'Fine Crackle', 'Normal', 'Normal', 'Normal', 'Normal', 'Normal', 'Fine Crackle', 'Normal', 'Normal', 'Normal', 'Normal', 'Normal', 'Normal', 'Normal', 'Wheeze', 'Normal', 'Normal', 'Normal', 'Normal', 'Normal', 'Normal', 'Normal', 'Fine Crackle', 'Fine Crackle', 'Normal', 'Normal', 'Normal', 'Normal', 'Normal', 'Wheeze', 'Normal', 'Normal', 'Normal', 'Wheeze', 'Normal', 'Normal', 'Normal', 'Coarse Crackle', 'Wheeze', 'Normal', 'Normal', 'Normal', 'Fine Crackle', 'Coarse Crackle', 'Normal', 'Fine Crackle', 'Fine Crackle', 'Normal', 'Normal', 'Normal', 'Normal', 'Normal', 'Normal', 'Fine Crackle', 'Normal', 'Fine Crackle', 'Normal', 'Normal', 'Normal', 'Normal', 'Normal', 'Normal', 'Normal', 'Normal', 'Normal', 'Normal', 'Normal', 'Normal', 'Normal', 'Normal', 'Normal', 'Normal', 'Fine Crackle', 'Normal', 'Normal', 'Normal', 'Normal', 'Normal', 'Normal', 'Normal', 'Normal', 'Normal', 'Normal', 'Normal', 'Normal', 'Normal', 'Normal', 'Normal', 'Normal', 'Normal', 'Normal', 'Normal', 'Normal', 'Normal', 'Normal', 'Normal', 'Normal', 'Normal', 'Normal', 'Normal', 'Fine Crackle', 'Normal', 'Normal', 'Rhonchi', 'Normal', 'Normal', 'Normal', 'Normal', 'Normal', 'Normal', 'Normal', 'Normal', 'Normal', 'Normal', 'Normal', 'Fine Crackle', 'Wheeze', 'Normal', 'Normal', 'Wheeze', 'Normal', 'Fine Crackle', 'Wheeze', 'Normal', 'Normal', 'Fine Crackle', 'Normal', 'Wheeze', 'Normal', 'Normal', 'Normal', 'Normal', 'Normal', 'Wheeze', 'Normal', 'Normal', 'Normal', 'Normal', 'Normal', 'Normal', 'Normal', 'Normal', 'Normal', 'Fine Crackle', 'Normal', 'Normal', 'Normal', 'Coarse Crackle', 'Normal', 'Normal', 'Wheeze', 'Normal', 'Wheeze', 'Normal', 'Normal', 'Fine Crackle', 'Normal', 'Normal', 'Normal', 'Normal', 'Normal', 'Fine Crackle', 'Wheeze', 'Wheeze', 'Normal', 'Fine Crackle', 'Normal', 'Normal', 'Normal', 'Normal', 'Normal', 'Wheeze', 'Normal', 'Wheeze', 'Normal', 'Normal', 'Wheeze', 'Fine Crackle', 'Normal', 'Rhonchi', 'Normal', 'Normal', 'Normal', 'Normal', 'Normal', 'Normal', 'Normal', 'Normal', 'Normal', 'Stridor', 'Normal', 'Normal', 'Normal', 'Normal', 'Normal', 'Normal', 'Fine Crackle', 'Normal', 'Wheeze', 'Normal', 'Normal', 'Normal', 'Wheeze', 'Normal', 'Normal', 'Normal', 'Normal', 'Coarse Crackle', 'Wheeze', 'Normal', 'Normal', 'Normal', 'Normal', 'Fine Crackle', 'Normal', 'Normal', 'Normal', 'Normal', 'Normal', 'Normal', 'Wheeze', 'Normal', 'Fine Crackle', 'Normal', 'Normal', 'Normal', 'Normal', 'Fine Crackle', 'Normal', 'Normal', 'Normal', 'Normal', 'Wheeze', 'Normal', 'Normal', 'Normal', 'Normal', 'Fine Crackle', 'Normal', 'Normal', 'Normal', 'Normal', 'Normal', 'Fine Crackle', 'Normal', 'Normal', 'Normal', 'Wheeze', 'Normal', 'Fine Crackle', 'Normal', 'Normal', 'Fine Crackle', 'Normal', 'Normal', 'Wheeze', 'Normal', 'Fine Crackle', 'Fine Crackle', 'Normal', 'Normal', 'Normal', 'Fine Crackle', 'Normal', 'Normal', 'Normal', 'Normal', 'Normal', 'Fine Crackle', 'Normal', 'Fine Crackle', 'Normal', 'Normal', 'Fine Crackle', 'Normal', 'Normal', 'Fine Crackle', 'Normal', 'Normal', 'Normal', 'Normal', 'Normal', 'Normal', 'Fine Crackle', 'Normal', 'Normal', 'Normal', 'Normal', 'Normal', 'Normal', 'Normal', 'Fine Crackle', 'Normal', 'Normal', 'Normal', 'Normal', 'Fine Crackle', 'Wheeze', 'Normal', 'Normal', 'Normal', 'Normal', 'Coarse Crackle', 'Normal', 'Fine Crackle', 'Normal', 'Wheeze', 'Normal', 'Rhonchi', 'Normal', 'Normal', 'Normal', 'Normal', 'Normal', 'Normal', 'Fine Crackle', 'Normal', 'Normal', 'Normal', 'Fine Crackle', 'Normal', 'Normal', 'Normal', 'Fine Crackle', 'Normal', 'Normal', 'Normal', 'Normal', 'Normal', 'Rhonchi', 'Normal', 'Normal', 'Stridor', 'Normal', 'Normal', 'Normal', 'Normal', 'Normal', 'Normal', 'Normal', 'Normal', 'Normal', 'Normal', 'Normal', 'Normal', 'Normal', 'Fine Crackle', 'Normal', 'Normal', 'Wheeze', 'Normal', 'Normal', 'Normal', 'Normal', 'Normal', 'Fine Crackle', 'Normal', 'Normal', 'Normal', 'Normal', 'Normal', 'Normal', 'Normal', 'Fine Crackle', 'Normal', 'Normal', 'Normal', 'Normal', 'Normal', 'Normal', 'Fine Crackle', 'Normal', 'Normal', 'Normal', 'Normal', 'Fine Crackle', 'Normal', 'Normal', 'Wheeze', 'Normal', 'Normal', 'Normal', 'Normal', 'Normal', 'Normal', 'Normal', 'Coarse Crackle', 'Normal', 'Normal', 'Fine Crackle', 'Wheeze', 'Normal', 'Normal', 'Normal', 'Normal', 'Normal', 'Wheeze', 'Fine Crackle', 'Normal', 'Normal', 'Normal', 'Normal', 'Fine Crackle', 'Normal', 'Normal', 'Normal', 'Fine Crackle', 'Fine Crackle', 'Normal', 'Normal', 'Normal', 'Normal', 'Normal', 'Normal', 'Normal', 'Normal', 'Wheeze', 'Normal', 'Wheeze', 'Wheeze', 'Normal', 'Fine Crackle', 'Normal', 'Fine Crackle', 'Normal', 'Normal', 'Normal', 'Normal', 'Normal', 'Normal', 'Normal', 'Normal', 'Normal', 'Normal', 'Normal', 'Normal', 'Normal', 'Rhonchi', 'Normal', 'Normal', 'Normal', 'Normal', 'Normal', 'Normal', 'Normal', 'Fine Crackle', 'Normal', 'Normal', 'Normal', 'Fine Crackle', 'Normal', 'Normal', 'Normal', 'Normal', 'Normal', 'Normal', 'Fine Crackle', 'Normal', 'Normal', 'Fine Crackle', 'Normal', 'Normal', 'Normal', 'Fine Crackle', 'Normal', 'Normal', 'Rhonchi', 'Fine Crackle', 'Normal', 'Normal', 'Normal', 'Normal', 'Normal', 'Normal', 'Fine Crackle', 'Normal', 'Normal', 'Normal', 'Normal', 'Normal', 'Normal', 'Wheeze', 'Normal', 'Normal', 'Wheeze', 'Wheeze', 'Normal', 'Normal', 'Normal', 'Normal', 'Fine Crackle', 'Normal', 'Fine Crackle', 'Normal', 'Wheeze', 'Normal', 'Normal', 'Normal', 'Normal', 'Wheeze', 'Fine Crackle', 'Normal', 'Normal', 'Normal', 'Fine Crackle', 'Normal', 'Fine Crackle', 'Wheeze', 'Normal', 'Fine Crackle', 'Normal', 'Fine Crackle', 'Normal', 'Fine Crackle', 'Fine Crackle', 'Normal', 'Normal', 'Fine Crackle', 'Normal', 'Normal', 'Fine Crackle', 'Fine Crackle', 'Wheeze', 'Fine Crackle', 'Normal', 'Normal', 'Normal', 'Normal', 'Normal', 'Normal', 'Fine Crackle', 'Normal', 'Normal', 'Normal', 'Normal', 'Normal', 'Fine Crackle', 'Wheeze+Crackle', 'Normal', 'Normal', 'Normal', 'Normal', 'Normal', 'Normal', 'Normal', 'Coarse Crackle', 'Normal', 'Fine Crackle', 'Normal', 'Normal', 'Normal', 'Normal', 'Normal', 'Wheeze', 'Normal', 'Normal', 'Normal', 'Wheeze', 'Normal', 'Normal', 'Normal', 'Coarse Crackle', 'Normal', 'Wheeze', 'Normal', 'Normal', 'Normal', 'Fine Crackle', 'Normal', 'Normal', 'Wheeze', 'Normal', 'Normal', 'Normal', 'Normal', 'Normal', 'Normal', 'Wheeze', 'Normal', 'Rhonchi', 'Normal', 'Normal', 'Normal', 'Normal', 'Normal', 'Normal', 'Fine Crackle', 'Fine Crackle', 'Normal', 'Fine Crackle', 'Normal', 'Fine Crackle', 'Normal', 'Fine Crackle', 'Normal', 'Normal', 'Normal', 'Normal', 'Normal', 'Normal', 'Normal', 'Normal', 'Normal', 'Normal', 'Normal', 'Normal', 'Fine Crackle', 'Fine Crackle', 'Normal', 'Normal', 'Normal', 'Normal', 'Normal', 'Normal', 'Normal', 'Normal', 'Fine Crackle', 'Normal', 'Normal', 'Normal', 'Normal', 'Stridor', 'Normal', 'Normal', 'Normal', 'Normal', 'Normal', 'Fine Crackle', 'Normal', 'Normal', 'Wheeze', 'Normal', 'Normal', 'Normal', 'Normal', 'Normal', 'Normal', 'Normal', 'Normal', 'Normal', 'Normal', 'Normal', 'Fine Crackle', 'Fine Crackle', 'Normal', 'Normal', 'Normal', 'Normal', 'Normal', 'Normal', 'Normal', 'Wheeze', 'Wheeze', 'Normal', 'Normal', 'Normal', 'Normal', 'Normal', 'Normal', 'Normal', 'Wheeze', 'Normal', 'Wheeze', 'Normal', 'Normal', 'Normal', 'Normal', 'Normal', 'Normal', 'Normal', 'Coarse Crackle', 'Normal', 'Normal', 'Normal', 'Normal', 'Normal', 'Normal', 'Normal', 'Normal', 'Normal', 'Normal', 'Normal', 'Fine Crackle', 'Rhonchi', 'Normal', 'Normal', 'Normal', 'Normal', 'Fine Crackle', 'Normal', 'Normal', 'Normal', 'Normal', 'Normal', 'Normal', 'Wheeze', 'Fine Crackle', 'Normal', 'Fine Crackle', 'Normal', 'Normal', 'Fine Crackle', 'Wheeze', 'Normal', 'Fine Crackle', 'Normal', 'Normal', 'Fine Crackle', 'Normal', 'Normal', 'Normal', 'Fine Crackle', 'Wheeze', 'Normal', 'Wheeze', 'Normal', 'Normal', 'Normal', 'Normal', 'Normal', 'Normal', 'Wheeze', 'Normal', 'Fine Crackle', 'Normal', 'Normal', 'Fine Crackle', 'Normal', 'Normal', 'Normal', 'Normal', 'Normal', 'Normal', 'Normal', 'Fine Crackle', 'Normal', 'Wheeze', 'Normal', 'Normal', 'Normal', 'Normal', 'Normal', 'Normal', 'Normal', 'Normal', 'Coarse Crackle', 'Normal', 'Normal', 'Fine Crackle', 'Normal', 'Normal', 'Fine Crackle', 'Normal', 'Normal', 'Normal', 'Normal', 'Fine Crackle', 'Normal', 'Normal', 'Fine Crackle', 'Normal', 'Normal', 'Normal', 'Normal', 'Normal', 'Normal', 'Normal', 'Fine Crackle', 'Normal', 'Normal', 'Normal', 'Normal', 'Normal', 'Normal', 'Normal', 'Normal', 'Wheeze', 'Normal', 'Normal', 'Normal', 'Normal', 'Wheeze', 'Normal', 'Normal', 'Normal', 'Normal', 'Normal', 'Fine Crackle', 'Normal', 'Normal', 'Fine Crackle', 'Normal', 'Normal', 'Normal', 'Normal', 'Normal', 'Fine Crackle', 'Normal', 'Normal', 'Normal', 'Normal', 'Normal', 'Normal', 'Normal', 'Normal', 'Normal', 'Normal', 'Normal', 'Normal', 'Normal', 'Normal', 'Normal', 'Normal', 'Fine Crackle', 'Normal', 'Normal', 'Normal', 'Normal', 'Normal', 'Normal', 'Normal', 'Fine Crackle', 'Normal', 'Fine Crackle', 'Normal', 'Fine Crackle', 'Normal', 'Normal', 'Coarse Crackle', 'Wheeze', 'Normal', 'Normal', 'Fine Crackle', 'Wheeze', 'Normal', 'Normal', 'Normal', 'Wheeze', 'Normal', 'Normal', 'Normal', 'Normal', 'Fine Crackle', 'Fine Crackle', 'Normal', 'Fine Crackle', 'Normal', 'Normal', 'Wheeze', 'Normal', 'Normal', 'Normal', 'Fine Crackle', 'Normal', 'Normal', 'Normal', 'Normal', 'Normal', 'Normal', 'Normal', 'Normal', 'Normal', 'Normal', 'Normal', 'Normal', 'Normal', 'Fine Crackle', 'Normal', 'Normal', 'Fine Crackle', 'Normal', 'Fine Crackle', 'Normal', 'Normal', 'Normal', 'Normal', 'Normal', 'Fine Crackle', 'Normal', 'Normal', 'Normal', 'Normal', 'Wheeze', 'Normal', 'Normal', 'Normal', 'Normal', 'Normal', 'Rhonchi', 'Normal', 'Normal', 'Coarse Crackle', 'Normal', 'Normal', 'Normal', 'Normal', 'Normal', 'Normal', 'Normal', 'Normal', 'Normal', 'Normal', 'Normal', 'Fine Crackle', 'Normal', 'Fine Crackle', 'Normal', 'Normal', 'Normal', 'Normal', 'Normal', 'Normal', 'Fine Crackle', 'Normal', 'Normal', 'Normal', 'Normal', 'Normal', 'Normal', 'Normal', 'Normal', 'Normal', 'Normal', 'Normal', 'Fine Crackle', 'Fine Crackle', 'Normal', 'Normal', 'Fine Crackle', 'Normal', 'Fine Crackle', 'Normal', 'Normal', 'Fine Crackle', 'Normal', 'Normal', 'Normal', 'Fine Crackle', 'Normal', 'Normal', 'Normal', 'Normal', 'Normal', 'Normal', 'Fine Crackle', 'Fine Crackle', 'Fine Crackle', 'Normal', 'Normal', 'Normal', 'Fine Crackle', 'Normal', 'Normal', 'Normal', 'Normal', 'Normal', 'Normal', 'Fine Crackle', 'Fine Crackle', 'Normal', 'Normal', 'Normal', 'Normal', 'Normal', 'Normal', 'Wheeze', 'Normal', 'Fine Crackle', 'Fine Crackle', 'Normal', 'Normal', 'Normal', 'Wheeze', 'Fine Crackle', 'Normal', 'Normal', 'Fine Crackle', 'Normal', 'Fine Crackle', 'Coarse Crackle', 'Normal', 'Normal', 'Wheeze', 'Normal', 'Normal', 'Normal', 'Normal', 'Normal', 'Normal', 'Normal', 'Normal', 'Wheeze', 'Normal', 'Wheeze', 'Fine Crackle', 'Normal', 'Normal', 'Normal', 'Normal', 'Normal', 'Normal', 'Fine Crackle', 'Normal', 'Normal', 'Wheeze', 'Fine Crackle', 'Coarse Crackle', 'Wheeze', 'Normal', 'Fine Crackle', 'Normal', 'Fine Crackle', 'Normal', 'Normal', 'Wheeze+Crackle', 'Normal', 'Normal', 'Normal', 'Fine Crackle', 'Normal', 'Normal', 'Fine Crackle', 'Normal', 'Normal', 'Normal', 'Normal', 'Normal', 'Normal', 'Normal', 'Normal', 'Normal', 'Normal', 'Normal', 'Normal', 'Normal', 'Normal', 'Fine Crackle', 'Fine Crackle', 'Normal', 'Normal', 'Normal', 'Wheeze', 'Normal', 'Normal', 'Normal', 'Normal', 'Coarse Crackle', 'Wheeze', 'Fine Crackle', 'Normal', 'Fine Crackle', 'Normal', 'Fine Crackle', 'Fine Crackle', 'Normal', 'Normal', 'Normal', 'Normal', 'Normal', 'Normal', 'Normal', 'Normal', 'Normal', 'Wheeze', 'Normal', 'Normal', 'Wheeze', 'Normal', 'Fine Crackle', 'Normal', 'Normal', 'Normal', 'Normal', 'Fine Crackle', 'Normal', 'Normal', 'Coarse Crackle', 'Normal', 'Normal', 'Normal', 'Wheeze', 'Normal', 'Fine Crackle', 'Normal', 'Normal', 'Wheeze', 'Fine Crackle', 'Normal', 'Normal', 'Normal', 'Normal', 'Normal', 'Normal', 'Normal', 'Normal', 'Normal', 'Fine Crackle', 'Wheeze', 'Normal', 'Normal', 'Normal', 'Fine Crackle', 'Normal', 'Normal', 'Normal', 'Wheeze', 'Normal', 'Normal', 'Normal', 'Wheeze', 'Normal', 'Normal', 'Normal', 'Normal', 'Normal', 'Normal', 'Normal', 'Normal', 'Normal', 'Fine Crackle', 'Normal', 'Fine Crackle', 'Wheeze', 'Normal', 'Normal', 'Rhonchi', 'Normal', 'Normal', 'Normal', 'Normal', 'Normal', 'Normal', 'Fine Crackle', 'Normal', 'Normal', 'Wheeze', 'Normal', 'Normal', 'Normal', 'Normal', 'Normal', 'Fine Crackle', 'Normal', 'Wheeze', 'Normal', 'Normal', 'Normal', 'Normal', 'Normal', 'Normal', 'Normal', 'Normal', 'Normal', 'Wheeze', 'Normal', 'Normal', 'Normal', 'Normal', 'Normal', 'Normal', 'Fine Crackle', 'Wheeze', 'Wheeze+Crackle', 'Normal', 'Normal', 'Normal', 'Normal', 'Normal', 'Normal', 'Normal', 'Normal', 'Normal', 'Normal', 'Wheeze', 'Fine Crackle', 'Normal', 'Normal', 'Normal', 'Normal', 'Normal', 'Normal', 'Wheeze', 'Normal', 'Normal', 'Normal', 'Normal', 'Normal', 'Fine Crackle', 'Wheeze+Crackle', 'Normal', 'Wheeze', 'Normal', 'Normal', 'Normal', 'Normal', 'Wheeze', 'Wheeze', 'Normal', 'Normal', 'Normal', 'Normal', 'Normal', 'Normal', 'Fine Crackle', 'Normal', 'Normal', 'Normal', 'Normal', 'Normal', 'Normal', 'Normal', 'Normal', 'Wheeze', 'Normal', 'Normal', 'Wheeze', 'Normal', 'Normal', 'Normal', 'Fine Crackle', 'Normal', 'Normal', 'Normal', 'Normal', 'Stridor', 'Normal', 'Normal', 'Normal', 'Normal', 'Normal', 'Normal', 'Normal', 'Fine Crackle', 'Normal', 'Normal', 'Wheeze', 'Normal', 'Fine Crackle', 'Normal', 'Normal', 'Normal', 'Normal', 'Normal', 'Normal', 'Fine Crackle', 'Wheeze', 'Normal', 'Normal', 'Fine Crackle', 'Normal', 'Normal', 'Normal', 'Normal', 'Normal', 'Normal', 'Fine Crackle', 'Normal', 'Normal', 'Normal', 'Normal', 'Normal', 'Normal', 'Normal', 'Normal', 'Normal', 'Fine Crackle', 'Fine Crackle', 'Normal', 'Normal', 'Normal', 'Normal', 'Fine Crackle', 'Normal', 'Normal', 'Normal', 'Fine Crackle', 'Normal', 'Normal', 'Normal', 'Normal', 'Normal', 'Normal', 'Normal', 'Rhonchi', 'Normal', 'Normal', 'Normal', 'Normal', 'Normal', 'Normal', 'Normal', 'Normal', 'Wheeze', 'Normal', 'Normal', 'Coarse Crackle', 'Normal', 'Normal', 'Normal', 'Fine Crackle', 'Normal', 'Normal', 'Normal', 'Normal', 'Normal', 'Normal', 'Normal', 'Normal', 'Fine Crackle', 'Normal', 'Normal', 'Normal', 'Normal', 'Normal', 'Fine Crackle', 'Fine Crackle', 'Fine Crackle', 'Normal', 'Normal', 'Fine Crackle', 'Normal', 'Normal', 'Fine Crackle', 'Normal', 'Fine Crackle', 'Normal', 'Normal', 'Normal', 'Wheeze', 'Normal', 'Fine Crackle', 'Normal', 'Wheeze', 'Normal', 'Normal', 'Normal', 'Wheeze', 'Normal', 'Fine Crackle', 'Normal', 'Normal', 'Fine Crackle', 'Normal', 'Normal', 'Coarse Crackle', 'Normal', 'Fine Crackle', 'Normal', 'Normal', 'Normal', 'Normal', 'Normal', 'Normal', 'Fine Crackle', 'Normal', 'Normal', 'Normal', 'Normal', 'Normal', 'Normal', 'Normal', 'Normal', 'Normal', 'Fine Crackle', 'Wheeze', 'Fine Crackle', 'Normal', 'Normal', 'Normal', 'Fine Crackle', 'Fine Crackle', 'Fine Crackle', 'Normal', 'Normal', 'Fine Crackle', 'Normal', 'Normal', 'Normal', 'Fine Crackle', 'Normal', 'Normal', 'Normal', 'Normal', 'Normal', 'Normal', 'Normal', 'Normal', 'Fine Crackle', 'Normal', 'Normal', 'Normal', 'Normal', 'Normal', 'Normal', 'Normal', 'Normal', 'Normal', 'Normal', 'Normal', 'Normal', 'Normal', 'Normal', 'Normal', 'Normal', 'Fine Crackle', 'Wheeze', 'Fine Crackle', 'Fine Crackle', 'Normal', 'Normal', 'Normal', 'Normal', 'Normal', 'Normal', 'Normal', 'Normal', 'Normal', 'Normal', 'Normal', 'Normal', 'Normal', 'Normal', 'Normal', 'Normal', 'Normal', 'Normal', 'Normal', 'Normal', 'Normal', 'Normal', 'Normal', 'Normal', 'Normal', 'Wheeze', 'Normal', 'Fine Crackle', 'Normal', 'Normal', 'Normal', 'Normal', 'Fine Crackle', 'Normal', 'Wheeze', 'Normal', 'Normal', 'Normal', 'Normal', 'Normal', 'Fine Crackle', 'Normal', 'Normal', 'Normal', 'Normal', 'Normal', 'Wheeze', 'Normal', 'Normal', 'Normal', 'Normal', 'Wheeze', 'Fine Crackle', 'Normal', 'Normal', 'Normal', 'Normal', 'Fine Crackle', 'Normal', 'Normal', 'Normal', 'Normal', 'Normal', 'Normal', 'Normal', 'Normal', 'Normal', 'Normal', 'Fine Crackle', 'Fine Crackle', 'Wheeze+Crackle', 'Normal', 'Normal', 'Normal', 'Normal', 'Normal', 'Fine Crackle', 'Normal', 'Normal', 'Wheeze', 'Wheeze', 'Normal', 'Normal', 'Fine Crackle', 'Normal', 'Wheeze', 'Normal', 'Normal', 'Stridor', 'Normal', 'Normal', 'Fine Crackle', 'Rhonchi', 'Normal', 'Fine Crackle', 'Normal', 'Normal', 'Normal', 'Normal', 'Normal', 'Normal', 'Wheeze', 'Wheeze', 'Wheeze', 'Normal', 'Normal', 'Normal', 'Normal', 'Wheeze', 'Normal', 'Normal', 'Normal', 'Normal', 'Normal', 'Wheeze', 'Wheeze', 'Wheeze', 'Normal', 'Normal', 'Normal', 'Wheeze', 'Wheeze+Crackle', 'Normal', 'Wheeze', 'Normal', 'Normal', 'Normal', 'Normal', 'Fine Crackle', 'Fine Crackle', 'Wheeze', 'Normal', 'Normal', 'Normal', 'Fine Crackle', 'Normal', 'Normal', 'Normal', 'Wheeze', 'Coarse Crackle', 'Fine Crackle', 'Normal', 'Normal', 'Normal', 'Fine Crackle', 'Normal', 'Fine Crackle', 'Wheeze', 'Normal', 'Normal', 'Normal', 'Normal', 'Normal', 'Normal', 'Normal', 'Normal', 'Fine Crackle', 'Normal', 'Normal', 'Fine Crackle', 'Normal', 'Fine Crackle', 'Fine Crackle', 'Fine Crackle', 'Normal', 'Normal', 'Normal', 'Fine Crackle', 'Normal', 'Normal', 'Normal', 'Normal', 'Fine Crackle', 'Wheeze', 'Normal', 'Normal', 'Normal', 'Fine Crackle', 'Normal', 'Normal', 'Fine Crackle', 'Normal', 'Fine Crackle', 'Wheeze', 'Normal', 'Normal', 'Normal', 'Wheeze', 'Normal', 'Normal', 'Normal', 'Normal', 'Normal', 'Fine Crackle', 'Normal', 'Normal', 'Normal', 'Normal', 'Normal', 'Normal', 'Fine Crackle', 'Normal', 'Normal', 'Wheeze', 'Fine Crackle', 'Normal', 'Fine Crackle', 'Normal', 'Normal', 'Normal', 'Normal', 'Normal', 'Normal', 'Normal', 'Normal', 'Normal', 'Normal', 'Normal', 'Normal', 'Normal', 'Normal', 'Normal', 'Fine Crackle', 'Normal', 'Normal', 'Fine Crackle', 'Normal', 'Normal', 'Fine Crackle', 'Normal', 'Normal', 'Normal', 'Normal', 'Normal', 'Normal', 'Normal', 'Normal', 'Normal', 'Normal', 'Wheeze', 'Normal', 'Fine Crackle', 'Normal', 'Fine Crackle', 'Normal', 'Normal', 'Normal', 'Normal', 'Normal', 'Normal', 'Normal', 'Fine Crackle', 'Normal', 'Fine Crackle', 'Normal', 'Normal', 'Normal', 'Normal', 'Normal', 'Wheeze', 'Normal', 'Wheeze', 'Normal', 'Normal', 'Normal', 'Normal', 'Normal', 'Normal', 'Wheeze', 'Normal', 'Normal', 'Normal', 'Normal', 'Fine Crackle', 'Normal', 'Normal', 'Normal', 'Normal', 'Normal', 'Fine Crackle', 'Normal', 'Normal', 'Wheeze+Crackle', 'Normal', 'Normal', 'Normal', 'Normal', 'Normal', 'Normal', 'Fine Crackle', 'Normal', 'Normal', 'Normal', 'Normal', 'Normal', 'Normal', 'Normal', 'Coarse Crackle', 'Normal', 'Fine Crackle', 'Normal', 'Wheeze', 'Normal', 'Normal', 'Normal', 'Normal', 'Normal', 'Normal', 'Normal', 'Normal', 'Normal', 'Normal', 'Normal', 'Normal', 'Normal', 'Normal', 'Normal', 'Normal', 'Normal', 'Normal', 'Normal', 'Normal', 'Fine Crackle', 'Fine Crackle', 'Normal', 'Normal', 'Normal', 'Normal', 'Normal', 'Normal', 'Wheeze', 'Normal', 'Normal', 'Normal', 'Normal', 'Normal', 'Normal', 'Wheeze', 'Coarse Crackle', 'Normal', 'Fine Crackle', 'Normal', 'Normal', 'Normal', 'Normal', 'Normal', 'Wheeze', 'Normal', 'Normal', 'Wheeze', 'Normal', 'Normal', 'Normal', 'Normal', 'Normal', 'Normal', 'Normal', 'Normal', 'Normal', 'Normal', 'Normal', 'Normal', 'Wheeze', 'Normal', 'Normal', 'Fine Crackle', 'Normal', 'Normal', 'Normal', 'Normal', 'Normal', 'Normal', 'Normal', 'Fine Crackle', 'Normal', 'Wheeze', 'Normal', 'Normal', 'Fine Crackle', 'Normal', 'Fine Crackle', 'Normal', 'Wheeze', 'Normal', 'Normal', 'Normal', 'Normal', 'Normal', 'Normal', 'Normal', 'Normal', 'Normal', 'Normal', 'Normal', 'Normal', 'Normal', 'Fine Crackle', 'Fine Crackle', 'Fine Crackle', 'Fine Crackle', 'Normal', 'Wheeze', 'Normal', 'Normal', 'Fine Crackle', 'Normal', 'Normal', 'Normal', 'Fine Crackle', 'Normal', 'Normal', 'Normal', 'Normal', 'Normal', 'Fine Crackle', 'Normal', 'Normal', 'Normal', 'Normal', 'Wheeze+Crackle', 'Normal', 'Normal', 'Normal', 'Normal', 'Normal', 'Fine Crackle', 'Normal', 'Normal', 'Fine Crackle', 'Normal', 'Normal', 'Normal', 'Normal', 'Fine Crackle', 'Normal', 'Normal', 'Normal', 'Normal', 'Normal', 'Normal', 'Normal', 'Normal', 'Normal', 'Rhonchi', 'Normal', 'Normal', 'Normal', 'Normal', 'Normal', 'Normal', 'Normal', 'Normal', 'Normal', 'Normal', 'Normal', 'Normal', 'Normal', 'Fine Crackle', 'Normal', 'Normal', 'Normal', 'Fine Crackle', 'Normal', 'Normal', 'Normal', 'Normal', 'Normal', 'Normal', 'Normal', 'Normal', 'Normal', 'Normal', 'Normal', 'Normal', 'Normal', 'Fine Crackle', 'Normal', 'Normal', 'Normal', 'Fine Crackle', 'Normal', 'Normal', 'Fine Crackle', 'Normal', 'Normal', 'Normal', 'Normal', 'Normal', 'Normal', 'Normal', 'Normal', 'Normal', 'Normal', 'Normal', 'Normal', 'Wheeze', 'Normal', 'Normal', 'Normal', 'Fine Crackle', 'Normal', 'Normal', 'Wheeze', 'Normal', 'Wheeze', 'Normal', 'Normal', 'Normal', 'Normal', 'Normal', 'Fine Crackle', 'Fine Crackle', 'Normal', 'Normal', 'Normal', 'Normal', 'Normal', 'Normal', 'Normal', 'Wheeze', 'Normal', 'Normal', 'Normal', 'Normal', 'Normal', 'Normal', 'Normal', 'Fine Crackle', 'Normal', 'Fine Crackle', 'Wheeze', 'Normal', 'Normal', 'Normal', 'Normal', 'Normal', 'Rhonchi', 'Normal', 'Normal', 'Normal', 'Normal', 'Normal', 'Fine Crackle', 'Wheeze+Crackle', 'Normal', 'Normal', 'Wheeze', 'Normal', 'Normal', 'Normal', 'Normal', 'Normal', 'Normal', 'Fine Crackle', 'Coarse Crackle', 'Normal', 'Fine Crackle', 'Normal', 'Normal', 'Normal', 'Normal', 'Fine Crackle', 'Normal', 'Normal', 'Normal', 'Normal', 'Normal', 'Wheeze', 'Normal', 'Normal', 'Normal', 'Fine Crackle', 'Normal', 'Normal', 'Normal', 'Normal', 'Wheeze', 'Normal', 'Normal', 'Fine Crackle', 'Normal', 'Normal', 'Rhonchi', 'Wheeze', 'Normal', 'Normal', 'Normal', 'Fine Crackle', 'Fine Crackle', 'Normal', 'Normal', 'Normal', 'Normal', 'Normal', 'Normal', 'Wheeze', 'Wheeze', 'Normal', 'Fine Crackle', 'Normal', 'Normal', 'Wheeze', 'Normal', 'Normal', 'Normal', 'Normal', 'Normal', 'Normal', 'Normal', 'Normal', 'Normal', 'Normal', 'Normal', 'Fine Crackle', 'Normal', 'Normal', 'Wheeze', 'Normal', 'Normal', 'Normal', 'Normal', 'Normal', 'Normal', 'Rhonchi', 'Normal', 'Fine Crackle', 'Normal', 'Normal', 'Fine Crackle', 'Normal', 'Normal', 'Normal', 'Coarse Crackle', 'Fine Crackle', 'Normal', 'Normal', 'Normal', 'Normal', 'Normal', 'Normal', 'Fine Crackle', 'Normal', 'Fine Crackle', 'Normal', 'Normal', 'Fine Crackle', 'Normal', 'Normal', 'Normal', 'Normal', 'Normal', 'Fine Crackle', 'Normal', 'Normal', 'Normal', 'Normal', 'Normal', 'Normal', 'Wheeze', 'Normal', 'Normal', 'Normal', 'Normal', 'Wheeze', 'Normal', 'Normal', 'Fine Crackle', 'Normal', 'Normal', 'Normal', 'Normal', 'Normal', 'Normal', 'Normal', 'Normal', 'Normal', 'Fine Crackle', 'Wheeze', 'Normal', 'Normal', 'Normal', 'Normal', 'Fine Crackle', 'Normal', 'Normal', 'Fine Crackle', 'Normal', 'Normal', 'Fine Crackle', 'Normal', 'Normal', 'Normal', 'Normal', 'Normal', 'Normal', 'Normal', 'Normal', 'Normal', 'Normal', 'Normal', 'Rhonchi', 'Fine Crackle', 'Normal', 'Normal', 'Normal', 'Normal', 'Normal', 'Wheeze', 'Normal', 'Normal', 'Normal', 'Normal', 'Normal', 'Normal', 'Normal', 'Normal', 'Normal', 'Fine Crackle', 'Normal', 'Fine Crackle', 'Normal', 'Normal', 'Normal', 'Normal', 'Normal', 'Normal', 'Normal', 'Wheeze', 'Normal', 'Normal', 'Normal', 'Normal', 'Normal', 'Normal', 'Normal', 'Normal', 'Normal', 'Normal', 'Normal', 'Normal', 'Normal', 'Fine Crackle', 'Normal', 'Normal', 'Normal', 'Normal', 'Normal', 'Normal', 'Normal', 'Fine Crackle', 'Normal', 'Wheeze', 'Coarse Crackle', 'Normal', 'Normal', 'Normal', 'Normal', 'Normal', 'Normal', 'Normal', 'Normal', 'Normal', 'Normal', 'Normal', 'Normal', 'Wheeze', 'Normal', 'Normal', 'Normal', 'Fine Crackle', 'Normal', 'Fine Crackle', 'Normal', 'Fine Crackle', 'Fine Crackle', 'Normal', 'Wheeze', 'Normal', 'Normal', 'Wheeze', 'Normal', 'Normal', 'Normal', 'Normal', 'Wheeze', 'Wheeze', 'Normal', 'Normal', 'Fine Crackle', 'Normal', 'Normal', 'Normal', 'Normal', 'Normal', 'Normal', 'Normal', 'Wheeze', 'Normal', 'Normal', 'Normal', 'Normal', 'Wheeze', 'Normal', 'Normal', 'Normal', 'Normal', 'Normal', 'Coarse Crackle', 'Normal', 'Normal', 'Normal', 'Normal', 'Normal', 'Normal', 'Normal', 'Normal', 'Wheeze', 'Normal', 'Wheeze', 'Normal', 'Normal', 'Normal', 'Normal', 'Normal', 'Normal', 'Fine Crackle', 'Fine Crackle', 'Normal', 'Normal', 'Normal', 'Normal', 'Normal', 'Normal', 'Normal', 'Fine Crackle', 'Wheeze', 'Normal', 'Normal', 'Wheeze', 'Normal', 'Normal', 'Normal', 'Normal', 'Normal', 'Wheeze', 'Normal', 'Normal', 'Normal', 'Normal', 'Wheeze', 'Normal', 'Normal', 'Normal', 'Normal', 'Normal', 'Normal', 'Normal', 'Normal', 'Normal', 'Normal', 'Normal', 'Normal', 'Fine Crackle', 'Normal', 'Normal', 'Normal', 'Normal', 'Normal', 'Wheeze', 'Normal', 'Normal', 'Fine Crackle', 'Normal', 'Normal', 'Normal', 'Normal', 'Fine Crackle', 'Fine Crackle', 'Normal', 'Normal', 'Normal', 'Normal', 'Normal', 'Normal', 'Normal', 'Fine Crackle', 'Normal', 'Normal', 'Wheeze', 'Normal', 'Fine Crackle', 'Normal', 'Normal', 'Normal', 'Normal', 'Normal', 'Normal', 'Fine Crackle', 'Normal', 'Normal', 'Normal', 'Wheeze', 'Normal', 'Normal', 'Normal', 'Normal', 'Normal', 'Normal', 'Normal', 'Normal', 'Normal', 'Normal', 'Normal', 'Normal', 'Normal', 'Normal', 'Fine Crackle', 'Fine Crackle', 'Fine Crackle', 'Fine Crackle', 'Normal', 'Normal', 'Normal', 'Normal', 'Normal', 'Normal', 'Fine Crackle', 'Wheeze', 'Fine Crackle', 'Normal', 'Fine Crackle', 'Normal', 'Normal', 'Normal', 'Normal', 'Normal', 'Normal', 'Normal', 'Normal', 'Normal', 'Normal', 'Wheeze', 'Normal', 'Fine Crackle', 'Normal', 'Normal', 'Normal', 'Normal', 'Normal', 'Fine Crackle', 'Normal', 'Normal', 'Fine Crackle', 'Normal', 'Fine Crackle', 'Normal', 'Normal', 'Normal', 'Normal', 'Normal', 'Wheeze', 'Normal', 'Normal', 'Fine Crackle', 'Normal', 'Coarse Crackle', 'Normal', 'Normal', 'Normal', 'Normal', 'Normal', 'Normal', 'Normal', 'Normal', 'Normal', 'Fine Crackle', 'Fine Crackle', 'Wheeze', 'Normal', 'Normal', 'Wheeze', 'Normal', 'Normal', 'Normal', 'Normal', 'Normal', 'Normal', 'Normal', 'Normal', 'Normal', 'Fine Crackle', 'Normal', 'Normal', 'Normal', 'Wheeze', 'Normal', 'Normal', 'Normal', 'Normal', 'Normal', 'Normal', 'Normal', 'Normal', 'Normal', 'Normal', 'Fine Crackle', 'Normal', 'Normal', 'Normal', 'Normal', 'Normal', 'Wheeze', 'Normal', 'Normal', 'Normal', 'Normal', 'Normal', 'Normal', 'Normal', 'Normal', 'Fine Crackle', 'Normal', 'Fine Crackle', 'Normal', 'Normal', 'Normal', 'Wheeze', 'Normal', 'Fine Crackle', 'Normal', 'Normal', 'Normal', 'Normal', 'Normal', 'Normal', 'Normal', 'Normal', 'Normal', 'Fine Crackle', 'Normal', 'Normal', 'Normal', 'Normal', 'Normal', 'Fine Crackle', 'Normal', 'Normal', 'Wheeze', 'Normal', 'Normal', 'Normal', 'Normal', 'Normal', 'Normal', 'Normal', 'Normal', 'Normal', 'Normal', 'Normal', 'Normal', 'Normal', 'Normal', 'Normal', 'Normal', 'Normal', 'Normal', 'Normal', 'Wheeze', 'Normal', 'Fine Crackle', 'Normal', 'Normal', 'Normal', 'Normal', 'Normal', 'Normal', 'Fine Crackle', 'Normal', 'Fine Crackle', 'Normal', 'Normal', 'Normal', 'Normal', 'Normal', 'Normal', 'Normal', 'Normal', 'Normal', 'Fine Crackle', 'Normal', 'Normal', 'Fine Crackle', 'Normal', 'Fine Crackle', 'Normal', 'Normal', 'Normal', 'Fine Crackle', 'Normal', 'Normal', 'Normal', 'Normal', 'Normal', 'Normal', 'Normal', 'Normal', 'Normal', 'Normal', 'Normal', 'Fine Crackle', 'Normal', 'Normal', 'Normal', 'Normal', 'Wheeze', 'Normal', 'Normal', 'Normal', 'Normal', 'Fine Crackle', 'Normal', 'Normal', 'Normal', 'Normal', 'Normal', 'Normal', 'Normal', 'Wheeze', 'Fine Crackle', 'Wheeze', 'Wheeze+Crackle', 'Normal', 'Normal', 'Fine Crackle', 'Normal', 'Normal', 'Fine Crackle', 'Normal', 'Normal', 'Normal', 'Normal', 'Normal', 'Normal', 'Normal', 'Fine Crackle', 'Fine Crackle', 'Normal', 'Normal', 'Normal', 'Normal', 'Wheeze+Crackle', 'Normal', 'Normal', 'Normal', 'Normal', 'Normal', 'Normal', 'Normal', 'Normal', 'Fine Crackle', 'Normal', 'Normal', 'Fine Crackle', 'Normal', 'Normal', 'Fine Crackle', 'Normal', 'Normal', 'Normal', 'Normal', 'Normal', 'Normal', 'Normal', 'Normal', 'Normal', 'Normal', 'Normal', 'Normal', 'Normal', 'Normal', 'Normal', 'Normal', 'Normal', 'Normal', 'Normal', 'Normal', 'Normal', 'Normal', 'Fine Crackle', 'Normal', 'Fine Crackle', 'Normal', 'Fine Crackle', 'Fine Crackle', 'Normal', 'Normal', 'Fine Crackle', 'Normal', 'Normal', 'Normal', 'Fine Crackle', 'Normal', 'Normal', 'Normal', 'Normal', 'Normal', 'Normal', 'Normal', 'Normal', 'Normal', 'Wheeze', 'Normal', 'Normal', 'Fine Crackle', 'Normal', 'Normal', 'Normal', 'Normal', 'Normal', 'Normal', 'Normal', 'Normal', 'Normal', 'Normal', 'Normal', 'Normal', 'Normal', 'Normal', 'Normal', 'Normal', 'Normal', 'Normal', 'Normal', 'Normal', 'Normal', 'Normal', 'Wheeze', 'Normal', 'Normal', 'Normal', 'Normal', 'Normal', 'Normal', 'Wheeze', 'Normal', 'Normal', 'Normal', 'Normal', 'Normal', 'Fine Crackle', 'Wheeze', 'Wheeze', 'Normal', 'Normal', 'Normal', 'Wheeze', 'Normal', 'Wheeze', 'Normal', 'Normal', 'Wheeze', 'Normal', 'Fine Crackle', 'Normal', 'Wheeze', 'Normal', 'Normal', 'Normal', 'Normal', 'Normal', 'Normal', 'Fine Crackle', 'Normal', 'Normal', 'Normal', 'Normal', 'Fine Crackle', 'Normal', 'Normal', 'Normal', 'Wheeze', 'Normal', 'Normal', 'Normal', 'Normal', 'Normal', 'Fine Crackle', 'Wheeze', 'Fine Crackle', 'Fine Crackle', 'Normal', 'Fine Crackle', 'Fine Crackle', 'Normal', 'Wheeze', 'Normal', 'Wheeze+Crackle', 'Normal', 'Normal', 'Coarse Crackle', 'Wheeze', 'Normal', 'Normal', 'Normal', 'Fine Crackle', 'Normal', 'Fine Crackle', 'Normal', 'Normal', 'Normal', 'Normal', 'Normal', 'Normal', 'Normal', 'Normal', 'Wheeze', 'Normal', 'Normal', 'Normal', 'Fine Crackle', 'Normal', 'Normal', 'Normal', 'Fine Crackle', 'Fine Crackle', 'Fine Crackle', 'Fine Crackle', 'Normal', 'Normal', 'Normal', 'Normal', 'Normal', 'Normal', 'Wheeze', 'Normal', 'Fine Crackle', 'Normal', 'Normal', 'Normal', 'Normal', 'Normal', 'Fine Crackle', 'Normal', 'Normal', 'Normal', 'Normal', 'Normal', 'Normal', 'Normal', 'Normal', 'Fine Crackle', 'Normal', 'Fine Crackle', 'Normal', 'Normal', 'Normal', 'Normal', 'Normal', 'Normal', 'Normal', 'Normal', 'Stridor', 'Normal', 'Fine Crackle', 'Normal', 'Normal', 'Normal', 'Normal', 'Fine Crackle', 'Normal', 'Normal', 'Wheeze', 'Coarse Crackle', 'Wheeze', 'Normal', 'Normal', 'Normal', 'Normal', 'Normal', 'Normal', 'Normal', 'Fine Crackle', 'Normal', 'Normal', 'Fine Crackle', 'Stridor', 'Wheeze', 'Normal', 'Normal', 'Normal', 'Normal', 'Normal', 'Normal', 'Normal', 'Normal', 'Normal', 'Normal', 'Normal', 'Normal', 'Normal', 'Normal', 'Normal', 'Normal', 'Normal', 'Normal', 'Normal', 'Normal', 'Normal', 'Normal', 'Normal', 'Normal', 'Normal', 'Normal', 'Fine Crackle', 'Normal', 'Normal', 'Normal', 'Normal', 'Normal', 'Normal', 'Normal', 'Normal', 'Normal', 'Wheeze', 'Normal', 'Fine Crackle', 'Normal', 'Normal', 'Fine Crackle', 'Normal', 'Normal', 'Normal', 'Normal', 'Wheeze', 'Wheeze', 'Normal', 'Fine Crackle', 'Normal', 'Fine Crackle', 'Wheeze', 'Fine Crackle', 'Wheeze', 'Normal', 'Normal', 'Normal', 'Normal', 'Normal', 'Wheeze', 'Normal', 'Normal', 'Normal', 'Normal', 'Normal', 'Normal', 'Wheeze', 'Normal', 'Normal', 'Fine Crackle', 'Normal', 'Normal', 'Normal', 'Normal', 'Normal', 'Normal', 'Normal', 'Normal', 'Normal', 'Normal', 'Wheeze+Crackle', 'Normal', 'Normal', 'Wheeze', 'Normal', 'Normal', 'Normal', 'Normal', 'Normal', 'Normal', 'Normal', 'Normal', 'Normal', 'Fine Crackle', 'Normal', 'Normal', 'Fine Crackle', 'Wheeze', 'Normal', 'Normal', 'Fine Crackle', 'Normal', 'Normal', 'Normal', 'Normal', 'Normal', 'Normal', 'Normal', 'Fine Crackle', 'Normal', 'Normal', 'Normal', 'Fine Crackle', 'Wheeze', 'Fine Crackle', 'Wheeze', 'Normal', 'Normal', 'Fine Crackle', 'Normal', 'Normal', 'Fine Crackle', 'Normal', 'Normal', 'Normal', 'Normal', 'Normal', 'Normal', 'Normal', 'Normal', 'Normal', 'Fine Crackle', 'Normal', 'Fine Crackle', 'Normal', 'Normal', 'Normal', 'Normal', 'Normal', 'Normal', 'Fine Crackle', 'Fine Crackle', 'Normal', 'Normal', 'Rhonchi', 'Normal', 'Normal', 'Fine Crackle', 'Fine Crackle', 'Normal', 'Normal', 'Normal', 'Fine Crackle', 'Normal', 'Normal', 'Normal', 'Normal', 'Normal', 'Normal', 'Normal', 'Normal', 'Normal', 'Normal', 'Normal', 'Normal', 'Wheeze', 'Normal', 'Rhonchi', 'Normal', 'Normal', 'Normal', 'Normal', 'Normal', 'Normal', 'Normal', 'Wheeze+Crackle', 'Normal', 'Normal', 'Normal', 'Normal', 'Wheeze+Crackle', 'Normal', 'Normal', 'Normal', 'Normal', 'Normal', 'Fine Crackle', 'Normal', 'Fine Crackle', 'Normal', 'Normal', 'Normal', 'Normal', 'Normal', 'Normal', 'Normal', 'Normal', 'Normal', 'Normal', 'Normal', 'Normal', 'Fine Crackle', 'Normal', 'Normal', 'Wheeze', 'Normal', 'Normal', 'Normal', 'Normal', 'Normal', 'Normal', 'Normal', 'Wheeze+Crackle', 'Fine Crackle', 'Normal', 'Wheeze', 'Normal', 'Normal', 'Wheeze', 'Fine Crackle', 'Coarse Crackle', 'Normal', 'Wheeze', 'Normal', 'Normal', 'Normal', 'Normal', 'Normal', 'Normal', 'Normal', 'Fine Crackle', 'Normal', 'Coarse Crackle', 'Normal', 'Normal', 'Normal', 'Fine Crackle', 'Normal', 'Normal', 'Normal', 'Normal', 'Normal', 'Wheeze', 'Normal', 'Normal', 'Normal', 'Normal', 'Normal', 'Normal', 'Fine Crackle', 'Normal', 'Normal', 'Normal', 'Normal', 'Normal', 'Fine Crackle', 'Normal', 'Normal', 'Normal', 'Fine Crackle', 'Normal', 'Wheeze', 'Normal', 'Normal', 'Fine Crackle', 'Normal', 'Normal', 'Normal', 'Normal', 'Normal', 'Normal', 'Normal', 'Normal', 'Normal', 'Normal', 'Normal', 'Coarse Crackle', 'Normal', 'Normal', 'Normal', 'Normal', 'Normal', 'Normal', 'Wheeze', 'Normal', 'Normal', 'Normal', 'Normal', 'Normal', 'Normal', 'Normal', 'Normal', 'Wheeze', 'Normal', 'Normal', 'Normal', 'Normal', 'Normal', 'Normal', 'Normal', 'Normal', 'Normal', 'Normal', 'Normal', 'Normal', 'Normal', 'Normal', 'Normal', 'Normal', 'Normal', 'Fine Crackle', 'Normal', 'Normal', 'Normal', 'Normal', 'Normal', 'Normal', 'Normal', 'Fine Crackle', 'Wheeze', 'Normal', 'Normal', 'Normal', 'Normal', 'Normal', 'Normal', 'Normal', 'Normal', 'Normal', 'Normal', 'Normal', 'Normal', 'Normal', 'Normal', 'Normal', 'Fine Crackle', 'Fine Crackle', 'Wheeze+Crackle', 'Normal', 'Normal', 'Normal', 'Fine Crackle', 'Normal', 'Fine Crackle', 'Normal', 'Fine Crackle', 'Normal', 'Normal', 'Normal', 'Normal', 'Normal', 'Fine Crackle', 'Normal', 'Normal', 'Normal', 'Normal', 'Normal', 'Normal', 'Normal', 'Normal', 'Wheeze', 'Wheeze', 'Normal', 'Normal', 'Normal', 'Normal', 'Fine Crackle', 'Normal', 'Normal', 'Fine Crackle', 'Normal', 'Fine Crackle', 'Normal', 'Normal', 'Normal', 'Normal', 'Wheeze', 'Wheeze', 'Normal', 'Fine Crackle', 'Normal', 'Fine Crackle', 'Fine Crackle', 'Fine Crackle', 'Normal', 'Normal', 'Normal', 'Normal', 'Normal', 'Normal', 'Normal', 'Normal', 'Normal', 'Normal', 'Normal', 'Normal', 'Normal', 'Normal', 'Normal', 'Normal', 'Normal', 'Normal', 'Normal', 'Normal', 'Normal', 'Normal', 'Fine Crackle', 'Normal', 'Normal', 'Normal', 'Normal', 'Wheeze', 'Normal', 'Normal', 'Wheeze', 'Wheeze', 'Normal', 'Normal', 'Normal', 'Normal', 'Normal', 'Normal', 'Fine Crackle', 'Normal', 'Normal', 'Normal', 'Wheeze', 'Normal', 'Normal', 'Normal', 'Normal', 'Normal', 'Normal', 'Normal', 'Normal', 'Fine Crackle', 'Normal', 'Normal', 'Normal', 'Normal', 'Normal', 'Normal', 'Normal', 'Wheeze', 'Normal', 'Normal', 'Normal', 'Normal', 'Normal', 'Fine Crackle', 'Normal', 'Fine Crackle', 'Wheeze', 'Normal', 'Normal', 'Normal', 'Normal', 'Normal', 'Normal', 'Normal', 'Wheeze', 'Normal', 'Normal', 'Fine Crackle', 'Normal', 'Normal', 'Normal', 'Normal', 'Normal', 'Normal', 'Normal', 'Normal', 'Normal', 'Normal', 'Normal', 'Normal', 'Normal', 'Normal', 'Normal', 'Normal', 'Normal', 'Fine Crackle', 'Fine Crackle', 'Normal', 'Normal', 'Normal', 'Fine Crackle', 'Rhonchi', 'Normal', 'Normal', 'Normal', 'Normal', 'Fine Crackle', 'Normal', 'Normal', 'Normal', 'Fine Crackle', 'Normal', 'Normal', 'Normal', 'Normal', 'Normal', 'Normal', 'Normal', 'Normal', 'Normal', 'Normal', 'Normal', 'Normal', 'Normal', 'Normal', 'Normal', 'Normal', 'Normal', 'Normal', 'Normal', 'Normal', 'Normal', 'Fine Crackle', 'Fine Crackle', 'Normal', 'Normal', 'Normal', 'Normal', 'Fine Crackle', 'Normal', 'Normal', 'Wheeze', 'Normal', 'Normal', 'Fine Crackle', 'Normal', 'Normal', 'Normal', 'Normal', 'Normal', 'Normal', 'Normal', 'Normal', 'Normal', 'Normal', 'Normal', 'Normal', 'Fine Crackle', 'Fine Crackle', 'Normal', 'Normal', 'Normal', 'Fine Crackle', 'Normal', 'Normal', 'Fine Crackle', 'Normal', 'Normal', 'Fine Crackle', 'Normal', 'Normal', 'Normal', 'Fine Crackle', 'Normal', 'Normal', 'Fine Crackle', 'Normal', 'Normal', 'Normal', 'Normal', 'Normal', 'Normal', 'Normal', 'Wheeze', 'Normal', 'Normal', 'Normal', 'Normal', 'Wheeze', 'Normal', 'Fine Crackle', 'Normal', 'Normal', 'Normal', 'Fine Crackle', 'Normal', 'Normal', 'Normal', 'Normal', 'Normal', 'Normal', 'Normal', 'Wheeze', 'Fine Crackle', 'Fine Crackle', 'Normal', 'Wheeze', 'Normal', 'Fine Crackle', 'Normal', 'Wheeze+Crackle', 'Normal', 'Wheeze', 'Normal', 'Normal', 'Normal', 'Fine Crackle', 'Normal', 'Normal', 'Fine Crackle', 'Normal', 'Normal', 'Normal', 'Normal', 'Wheeze', 'Normal', 'Normal', 'Normal', 'Normal', 'Stridor', 'Normal', 'Normal', 'Normal', 'Normal', 'Fine Crackle', 'Fine Crackle', 'Normal', 'Normal', 'Normal', 'Normal', 'Normal', 'Normal', 'Fine Crackle', 'Normal', 'Normal', 'Fine Crackle', 'Normal', 'Normal', 'Normal', 'Normal', 'Coarse Crackle', 'Normal', 'Normal', 'Normal', 'Normal', 'Normal', 'Normal', 'Normal', 'Normal', 'Normal', 'Normal', 'Normal', 'Normal', 'Normal', 'Normal', 'Normal', 'Normal', 'Normal', 'Normal', 'Wheeze', 'Normal', 'Fine Crackle', 'Normal', 'Wheeze', 'Normal', 'Wheeze', 'Normal', 'Normal', 'Normal', 'Normal', 'Wheeze', 'Normal', 'Normal', 'Normal', 'Normal', 'Normal', 'Normal', 'Wheeze', 'Normal', 'Fine Crackle', 'Normal', 'Normal', 'Normal', 'Normal', 'Normal', 'Normal', 'Normal', 'Normal', 'Normal', 'Normal', 'Normal', 'Normal', 'Fine Crackle', 'Normal', 'Normal', 'Normal', 'Normal', 'Normal', 'Normal', 'Normal', 'Normal', 'Normal', 'Fine Crackle', 'Normal', 'Fine Crackle', 'Normal', 'Normal', 'Normal', 'Normal', 'Normal', 'Fine Crackle', 'Normal', 'Normal', 'Normal', 'Fine Crackle', 'Fine Crackle', 'Fine Crackle', 'Normal', 'Normal', 'Wheeze', 'Normal', 'Normal', 'Fine Crackle', 'Normal', 'Normal', 'Fine Crackle', 'Normal', 'Rhonchi', 'Normal', 'Normal', 'Normal', 'Wheeze', 'Fine Crackle', 'Normal', 'Fine Crackle', 'Normal', 'Fine Crackle', 'Normal', 'Fine Crackle', 'Normal', 'Normal', 'Normal', 'Normal', 'Stridor', 'Normal', 'Normal', 'Normal', 'Normal', 'Normal', 'Wheeze', 'Normal', 'Normal', 'Normal', 'Normal', 'Fine Crackle', 'Normal', 'Normal', 'Normal', 'Fine Crackle', 'Normal', 'Normal', 'Normal', 'Normal', 'Normal', 'Normal', 'Wheeze', 'Normal', 'Normal', 'Normal', 'Normal', 'Fine Crackle', 'Fine Crackle', 'Normal', 'Normal', 'Wheeze', 'Normal', 'Normal', 'Fine Crackle', 'Wheeze', 'Coarse Crackle', 'Fine Crackle', 'Wheeze', 'Normal', 'Normal', 'Normal', 'Normal', 'Normal', 'Normal', 'Normal', 'Normal', 'Normal', 'Fine Crackle', 'Fine Crackle', 'Normal', 'Normal', 'Normal', 'Normal', 'Normal', 'Normal', 'Normal', 'Fine Crackle', 'Normal', 'Normal', 'Normal', 'Normal', 'Normal', 'Normal', 'Normal', 'Normal', 'Normal', 'Normal', 'Normal', 'Fine Crackle', 'Normal', 'Normal', 'Normal', 'Fine Crackle', 'Normal', 'Normal', 'Normal', 'Normal', 'Normal', 'Fine Crackle', 'Normal', 'Normal', 'Normal', 'Normal', 'Normal', 'Rhonchi', 'Normal', 'Normal', 'Normal', 'Normal', 'Normal', 'Normal', 'Normal', 'Wheeze', 'Normal', 'Normal', 'Normal', 'Fine Crackle', 'Wheeze', 'Normal', 'Normal', 'Normal', 'Normal', 'Normal', 'Fine Crackle', 'Normal', 'Normal', 'Normal', 'Normal', 'Wheeze', 'Normal', 'Normal', 'Fine Crackle', 'Normal', 'Normal', 'Normal', 'Normal', 'Normal', 'Normal', 'Normal', 'Normal', 'Normal', 'Normal', 'Normal', 'Normal', 'Normal', 'Normal', 'Normal', 'Normal', 'Normal', 'Normal', 'Fine Crackle', 'Normal', 'Normal', 'Fine Crackle', 'Normal', 'Fine Crackle', 'Normal', 'Normal', 'Normal', 'Fine Crackle', 'Normal', 'Normal', 'Normal', 'Normal', 'Normal', 'Normal', 'Normal', 'Normal', 'Normal', 'Normal', 'Normal', 'Normal', 'Normal', 'Normal', 'Normal', 'Normal', 'Normal', 'Normal', 'Normal', 'Normal', 'Coarse Crackle', 'Normal', 'Fine Crackle', 'Normal', 'Normal', 'Normal', 'Normal', 'Normal', 'Normal', 'Normal', 'Normal', 'Normal', 'Fine Crackle', 'Normal', 'Normal', 'Normal', 'Normal', 'Normal', 'Normal', 'Normal', 'Normal', 'Normal', 'Wheeze', 'Normal', 'Wheeze', 'Normal', 'Normal', 'Normal', 'Fine Crackle', 'Normal', 'Wheeze', 'Normal', 'Coarse Crackle', 'Normal', 'Normal', 'Fine Crackle', 'Normal', 'Normal', 'Normal', 'Normal', 'Normal', 'Normal', 'Fine Crackle', 'Normal', 'Normal', 'Normal', 'Wheeze', 'Fine Crackle', 'Fine Crackle', 'Normal', 'Normal', 'Normal', 'Normal', 'Normal', 'Normal', 'Normal', 'Normal', 'Normal', 'Normal', 'Normal', 'Normal', 'Normal', 'Normal', 'Wheeze', 'Normal', 'Normal', 'Normal', 'Normal', 'Normal', 'Normal', 'Normal', 'Fine Crackle', 'Normal', 'Normal', 'Normal', 'Normal', 'Normal', 'Normal', 'Fine Crackle', 'Coarse Crackle', 'Fine Crackle', 'Normal', 'Normal', 'Normal', 'Fine Crackle', 'Normal', 'Coarse Crackle', 'Normal', 'Normal', 'Fine Crackle', 'Normal', 'Normal', 'Normal', 'Normal', 'Normal', 'Normal', 'Normal', 'Normal', 'Normal', 'Wheeze', 'Fine Crackle', 'Stridor', 'Normal', 'Fine Crackle', 'Fine Crackle', 'Normal', 'Normal', 'Normal', 'Normal', 'Normal', 'Normal', 'Normal', 'Normal', 'Fine Crackle', 'Wheeze', 'Normal', 'Fine Crackle', 'Wheeze', 'Normal', 'Normal', 'Normal', 'Normal', 'Normal', 'Normal', 'Fine Crackle', 'Wheeze', 'Normal', 'Normal', 'Normal', 'Normal', 'Normal', 'Normal', 'Normal', 'Normal', 'Fine Crackle', 'Normal', 'Coarse Crackle', 'Normal', 'Normal', 'Normal', 'Normal', 'Normal', 'Normal', 'Fine Crackle', 'Normal', 'Normal', 'Rhonchi', 'Fine Crackle', 'Normal', 'Normal', 'Normal', 'Fine Crackle', 'Normal', 'Normal', 'Normal', 'Normal', 'Normal', 'Fine Crackle', 'Normal', 'Normal', 'Wheeze', 'Normal', 'Normal', 'Normal', 'Normal', 'Normal', 'Normal', 'Wheeze', 'Normal', 'Normal', 'Normal', 'Normal', 'Normal', 'Wheeze+Crackle', 'Normal', 'Fine Crackle', 'Fine Crackle', 'Normal', 'Normal', 'Normal', 'Wheeze', 'Fine Crackle', 'Normal', 'Fine Crackle', 'Normal', 'Fine Crackle', 'Normal', 'Normal', 'Fine Crackle', 'Normal', 'Normal', 'Normal', 'Normal', 'Normal', 'Normal', 'Normal', 'Normal', 'Normal', 'Normal', 'Wheeze', 'Normal', 'Normal', 'Fine Crackle', 'Fine Crackle', 'Normal', 'Normal', 'Normal', 'Normal', 'Normal', 'Normal', 'Normal', 'Normal', 'Normal', 'Normal', 'Normal', 'Normal', 'Fine Crackle', 'Fine Crackle', 'Normal', 'Normal', 'Normal', 'Normal', 'Normal', 'Normal', 'Normal', 'Normal', 'Normal', 'Normal', 'Normal', 'Wheeze', 'Normal', 'Wheeze', 'Fine Crackle', 'Coarse Crackle', 'Normal', 'Normal', 'Normal', 'Normal', 'Normal', 'Normal', 'Wheeze', 'Normal', 'Fine Crackle', 'Normal', 'Wheeze', 'Wheeze', 'Normal', 'Normal', 'Fine Crackle', 'Normal', 'Normal', 'Fine Crackle', 'Fine Crackle', 'Normal', 'Normal', 'Normal', 'Normal', 'Normal', 'Fine Crackle', 'Normal', 'Fine Crackle', 'Normal', 'Fine Crackle', 'Normal', 'Normal', 'Normal', 'Fine Crackle', 'Wheeze', 'Normal', 'Normal', 'Normal', 'Fine Crackle', 'Wheeze', 'Normal', 'Normal', 'Normal', 'Normal', 'Normal', 'Normal', 'Normal', 'Normal', 'Normal', 'Normal', 'Fine Crackle', 'Fine Crackle', 'Fine Crackle', 'Normal', 'Normal', 'Normal', 'Fine Crackle', 'Normal', 'Normal', 'Normal', 'Normal', 'Normal', 'Normal', 'Fine Crackle', 'Normal', 'Fine Crackle', 'Normal', 'Fine Crackle', 'Normal', 'Normal', 'Wheeze', 'Normal', 'Normal', 'Fine Crackle', 'Normal', 'Wheeze', 'Normal', 'Normal', 'Normal', 'Wheeze', 'Fine Crackle', 'Normal', 'Fine Crackle', 'Normal', 'Normal', 'Normal', 'Normal', 'Normal', 'Normal', 'Fine Crackle', 'Normal', 'Wheeze', 'Normal', 'Normal', 'Normal', 'Normal', 'Normal', 'Normal', 'Normal', 'Normal', 'Normal', 'Normal', 'Normal', 'Fine Crackle', 'Normal', 'Normal', 'Coarse Crackle', 'Normal', 'Normal', 'Normal', 'Normal', 'Normal', 'Fine Crackle', 'Normal', 'Normal', 'Normal', 'Normal', 'Normal', 'Normal', 'Fine Crackle', 'Normal', 'Wheeze', 'Normal', 'Fine Crackle', 'Fine Crackle', 'Normal', 'Normal', 'Normal', 'Normal', 'Normal', 'Normal', 'Fine Crackle', 'Normal', 'Fine Crackle', 'Normal', 'Normal', 'Normal', 'Normal', 'Normal', 'Normal', 'Normal', 'Fine Crackle', 'Normal', 'Normal', 'Normal', 'Normal', 'Normal', 'Normal', 'Normal', 'Normal', 'Normal', 'Normal', 'Normal', 'Fine Crackle', 'Normal', 'Normal', 'Fine Crackle', 'Normal', 'Normal', 'Normal', 'Normal', 'Normal', 'Normal', 'Normal', 'Wheeze', 'Normal', 'Normal', 'Normal', 'Fine Crackle', 'Normal', 'Normal', 'Normal', 'Fine Crackle', 'Fine Crackle', 'Normal', 'Fine Crackle', 'Normal', 'Normal', 'Normal', 'Fine Crackle', 'Normal', 'Normal', 'Fine Crackle', 'Wheeze', 'Coarse Crackle', 'Normal', 'Normal', 'Normal', 'Normal', 'Normal', 'Normal', 'Normal', 'Normal', 'Normal', 'Wheeze', 'Fine Crackle', 'Normal', 'Normal', 'Normal', 'Normal', 'Normal', 'Normal', 'Normal', 'Fine Crackle', 'Normal', 'Normal', 'Normal', 'Normal', 'Normal', 'Normal', 'Normal', 'Normal', 'Normal', 'Normal', 'Normal', 'Normal', 'Fine Crackle', 'Normal', 'Normal', 'Fine Crackle', 'Normal', 'Normal', 'Normal', 'Normal', 'Normal', 'Normal', 'Fine Crackle', 'Normal', 'Wheeze', 'Normal', 'Normal', 'Fine Crackle', 'Normal', 'Normal', 'Normal', 'Normal', 'Normal', 'Normal', 'Normal', 'Normal', 'Normal', 'Normal', 'Normal', 'Normal', 'Normal', 'Normal', 'Fine Crackle', 'Normal', 'Normal', 'Fine Crackle', 'Wheeze', 'Normal', 'Normal', 'Normal', 'Normal', 'Normal', 'Normal', 'Normal', 'Normal', 'Wheeze', 'Normal', 'Normal', 'Normal', 'Normal', 'Normal', 'Wheeze', 'Normal', 'Fine Crackle', 'Wheeze', 'Normal', 'Fine Crackle', 'Normal', 'Normal', 'Fine Crackle', 'Fine Crackle', 'Normal', 'Normal', 'Normal', 'Normal', 'Normal', 'Normal', 'Normal', 'Normal', 'Normal', 'Wheeze', 'Normal', 'Normal', 'Normal', 'Normal', 'Normal', 'Rhonchi', 'Normal', 'Normal', 'Normal', 'Wheeze', 'Normal', 'Normal', 'Fine Crackle', 'Normal', 'Fine Crackle', 'Normal', 'Normal', 'Normal', 'Normal', 'Normal', 'Normal', 'Normal', 'Fine Crackle', 'Normal', 'Normal', 'Fine Crackle', 'Normal', 'Normal', 'Wheeze', 'Normal', 'Normal', 'Normal', 'Fine Crackle', 'Normal', 'Wheeze', 'Normal', 'Normal', 'Normal', 'Normal', 'Normal', 'Normal', 'Fine Crackle', 'Fine Crackle', 'Normal', 'Normal', 'Fine Crackle', 'Normal', 'Fine Crackle', 'Normal', 'Fine Crackle', 'Normal', 'Normal', 'Normal', 'Normal', 'Normal', 'Fine Crackle', 'Normal', 'Normal', 'Normal', 'Wheeze', 'Normal', 'Normal', 'Fine Crackle', 'Normal', 'Normal', 'Fine Crackle', 'Fine Crackle', 'Normal', 'Normal', 'Normal', 'Normal', 'Normal', 'Rhonchi', 'Normal', 'Normal', 'Normal', 'Normal', 'Normal', 'Normal', 'Normal', 'Normal', 'Normal', 'Normal', 'Normal', 'Normal', 'Normal', 'Normal', 'Wheeze', 'Normal', 'Normal', 'Normal', 'Normal', 'Normal', 'Normal', 'Normal', 'Normal', 'Fine Crackle', 'Normal', 'Normal', 'Normal', 'Normal', 'Normal', 'Wheeze', 'Normal', 'Normal', 'Normal', 'Fine Crackle', 'Normal', 'Normal', 'Normal', 'Normal', 'Normal', 'Normal', 'Wheeze', 'Normal', 'Normal', 'Normal', 'Normal', 'Normal', 'Fine Crackle', 'Normal', 'Wheeze', 'Normal', 'Normal', 'Normal', 'Normal', 'Normal', 'Normal', 'Normal', 'Fine Crackle', 'Fine Crackle', 'Normal', 'Normal', 'Normal', 'Normal', 'Normal', 'Normal', 'Fine Crackle', 'Normal', 'Fine Crackle', 'Normal', 'Normal', 'Wheeze', 'Normal', 'Fine Crackle', 'Normal', 'Normal', 'Normal', 'Normal', 'Normal', 'Normal', 'Fine Crackle', 'Fine Crackle', 'Normal', 'Normal', 'Normal', 'Normal', 'Wheeze', 'Normal', 'Normal', 'Normal', 'Normal', 'Normal', 'Normal', 'Normal', 'Normal', 'Normal', 'Normal', 'Normal', 'Wheeze+Crackle', 'Fine Crackle', 'Normal', 'Normal', 'Normal', 'Normal', 'Wheeze', 'Normal', 'Normal', 'Normal', 'Normal', 'Normal', 'Normal', 'Normal', 'Normal', 'Normal', 'Fine Crackle', 'Fine Crackle', 'Normal', 'Normal', 'Normal', 'Normal', 'Normal', 'Normal', 'Normal', 'Normal', 'Normal', 'Fine Crackle', 'Fine Crackle', 'Normal', 'Normal', 'Normal', 'Normal', 'Normal', 'Normal', 'Normal', 'Normal', 'Normal', 'Normal', 'Normal', 'Wheeze', 'Normal', 'Normal', 'Normal', 'Normal', 'Normal', 'Normal', 'Normal', 'Fine Crackle', 'Wheeze', 'Normal', 'Normal', 'Normal', 'Normal', 'Normal', 'Normal', 'Fine Crackle', 'Normal', 'Normal', 'Normal', 'Normal', 'Normal', 'Normal', 'Normal', 'Normal', 'Normal', 'Fine Crackle', 'Normal', 'Normal', 'Normal', 'Normal', 'Normal', 'Normal', 'Normal', 'Normal', 'Normal', 'Normal', 'Normal', 'Normal', 'Normal', 'Normal', 'Normal', 'Normal', 'Rhonchi', 'Fine Crackle', 'Normal', 'Normal', 'Normal', 'Fine Crackle', 'Normal', 'Normal', 'Normal', 'Normal', 'Fine Crackle', 'Fine Crackle', 'Normal', 'Normal', 'Normal', 'Normal', 'Normal', 'Normal', 'Wheeze', 'Wheeze', 'Normal', 'Fine Crackle', 'Normal', 'Normal', 'Normal', 'Normal', 'Normal', 'Normal', 'Fine Crackle', 'Normal', 'Normal', 'Normal', 'Normal', 'Normal', 'Normal', 'Normal', 'Normal', 'Normal', 'Normal', 'Normal', 'Normal', 'Normal', 'Normal', 'Normal', 'Normal', 'Normal', 'Coarse Crackle', 'Normal', 'Normal', 'Normal', 'Normal', 'Normal', 'Normal', 'Wheeze', 'Normal', 'Normal', 'Normal', 'Normal', 'Normal', 'Wheeze', 'Normal', 'Wheeze', 'Normal', 'Fine Crackle', 'Normal', 'Fine Crackle', 'Normal', 'Normal', 'Wheeze', 'Wheeze', 'Fine Crackle', 'Normal', 'Wheeze', 'Normal', 'Normal', 'Normal', 'Fine Crackle', 'Normal', 'Normal', 'Normal', 'Normal', 'Normal', 'Fine Crackle', 'Normal', 'Normal', 'Normal', 'Normal', 'Normal', 'Normal', 'Normal', 'Normal', 'Normal', 'Normal', 'Normal', 'Normal', 'Normal', 'Normal', 'Normal', 'Normal', 'Normal', 'Normal', 'Normal', 'Normal', 'Normal', 'Normal', 'Fine Crackle', 'Normal', 'Fine Crackle', 'Normal', 'Wheeze', 'Fine Crackle', 'Normal', 'Normal', 'Normal', 'Normal', 'Normal', 'Normal', 'Normal', 'Normal', 'Normal', 'Normal', 'Fine Crackle', 'Normal', 'Fine Crackle', 'Normal', 'Normal', 'Normal', 'Normal', 'Normal', 'Normal', 'Fine Crackle', 'Fine Crackle', 'Normal', 'Normal', 'Normal', 'Normal', 'Normal', 'Normal', 'Normal', 'Normal', 'Normal', 'Normal', 'Normal', 'Normal', 'Normal', 'Fine Crackle', 'Normal', 'Normal', 'Normal', 'Normal', 'Normal', 'Normal', 'Normal', 'Normal', 'Normal', 'Normal', 'Normal', 'Normal', 'Normal', 'Normal', 'Normal', 'Normal', 'Wheeze', 'Stridor', 'Normal', 'Normal', 'Normal', 'Normal', 'Normal', 'Normal', 'Normal', 'Normal', 'Normal', 'Wheeze', 'Fine Crackle', 'Normal', 'Normal', 'Normal', 'Normal', 'Fine Crackle', 'Normal', 'Normal', 'Normal', 'Normal', 'Normal', 'Normal', 'Normal', 'Normal', 'Normal', 'Normal', 'Normal', 'Fine Crackle', 'Wheeze', 'Normal', 'Normal', 'Wheeze', 'Normal', 'Normal', 'Wheeze+Crackle', 'Normal', 'Normal', 'Normal', 'Normal', 'Normal', 'Normal', 'Normal', 'Normal', 'Normal', 'Rhonchi', 'Normal', 'Wheeze', 'Normal', 'Fine Crackle', 'Normal', 'Normal', 'Normal', 'Wheeze', 'Normal', 'Fine Crackle', 'Normal', 'Normal', 'Normal', 'Fine Crackle', 'Normal', 'Wheeze', 'Rhonchi', 'Normal', 'Normal', 'Normal', 'Normal', 'Normal', 'Normal', 'Normal', 'Fine Crackle', 'Normal', 'Normal', 'Normal', 'Normal', 'Normal', 'Normal', 'Normal', 'Normal', 'Normal', 'Wheeze', 'Normal', 'Normal', 'Normal', 'Normal', 'Fine Crackle', 'Normal', 'Fine Crackle', 'Normal', 'Normal', 'Normal', 'Normal', 'Normal', 'Normal', 'Normal', 'Fine Crackle', 'Normal', 'Fine Crackle', 'Normal', 'Wheeze', 'Normal', 'Wheeze', 'Wheeze', 'Normal', 'Normal', 'Wheeze', 'Wheeze', 'Normal', 'Fine Crackle', 'Normal', 'Normal', 'Normal', 'Normal', 'Normal', 'Normal', 'Normal', 'Fine Crackle', 'Normal', 'Normal', 'Normal', 'Fine Crackle', 'Normal', 'Normal', 'Normal', 'Normal', 'Normal', 'Normal', 'Fine Crackle', 'Normal', 'Normal', 'Normal', 'Normal', 'Normal', 'Normal', 'Normal', 'Normal', 'Normal', 'Normal', 'Normal', 'Normal', 'Normal', 'Wheeze', 'Normal', 'Fine Crackle', 'Normal', 'Normal', 'Normal', 'Normal', 'Normal', 'Normal', 'Normal', 'Normal', 'Normal', 'Wheeze', 'Normal', 'Normal', 'Normal', 'Normal', 'Normal', 'Wheeze', 'Normal', 'Normal', 'Wheeze', 'Normal', 'Normal', 'Normal', 'Normal', 'Wheeze', 'Normal', 'Normal', 'Normal', 'Normal', 'Fine Crackle', 'Normal', 'Normal', 'Normal', 'Normal', 'Normal', 'Wheeze', 'Normal', 'Normal', 'Normal', 'Fine Crackle', 'Normal', 'Normal', 'Normal', 'Normal', 'Normal', 'Wheeze', 'Normal', 'Normal', 'Normal', 'Normal', 'Rhonchi', 'Normal', 'Normal', 'Normal', 'Normal', 'Wheeze', 'Normal', 'Normal', 'Wheeze', 'Normal', 'Normal', 'Normal', 'Normal', 'Normal', 'Normal', 'Normal', 'Normal', 'Normal', 'Normal', 'Normal', 'Normal', 'Normal', 'Coarse Crackle', 'Fine Crackle', 'Normal', 'Normal', 'Wheeze', 'Normal', 'Normal', 'Fine Crackle', 'Normal', 'Normal', 'Normal', 'Fine Crackle', 'Normal', 'Normal', 'Normal', 'Normal', 'Wheeze', 'Normal', 'Normal', 'Normal', 'Normal', 'Normal', 'Normal', 'Normal', 'Normal', 'Normal', 'Fine Crackle', 'Normal', 'Normal', 'Normal', 'Normal', 'Normal', 'Fine Crackle', 'Normal', 'Normal', 'Normal', 'Fine Crackle', 'Normal', 'Fine Crackle', 'Normal', 'Normal', 'Normal', 'Normal', 'Wheeze', 'Wheeze', 'Normal', 'Normal', 'Normal', 'Normal', 'Normal', 'Normal', 'Normal', 'Wheeze', 'Normal', 'Normal', 'Wheeze+Crackle', 'Fine Crackle', 'Normal', 'Fine Crackle', 'Normal', 'Normal', 'Normal', 'Normal', 'Normal', 'Normal', 'Normal', 'Normal', 'Normal', 'Normal', 'Normal', 'Normal', 'Normal', 'Normal', 'Normal', 'Normal', 'Wheeze', 'Normal', 'Normal', 'Normal', 'Normal', 'Normal', 'Normal', 'Fine Crackle', 'Normal', 'Normal', 'Normal', 'Normal', 'Normal', 'Normal', 'Normal', 'Normal', 'Normal', 'Normal', 'Normal', 'Normal', 'Normal', 'Normal', 'Normal', 'Normal', 'Fine Crackle', 'Normal', 'Normal', 'Wheeze', 'Normal', 'Wheeze', 'Fine Crackle', 'Normal', 'Normal', 'Normal', 'Fine Crackle', 'Fine Crackle', 'Normal', 'Wheeze', 'Normal', 'Normal', 'Normal', 'Normal', 'Normal', 'Fine Crackle', 'Fine Crackle', 'Normal', 'Normal', 'Normal', 'Normal', 'Normal', 'Wheeze', 'Normal', 'Fine Crackle', 'Coarse Crackle', 'Wheeze', 'Normal', 'Normal', 'Fine Crackle', 'Normal', 'Normal', 'Normal', 'Normal', 'Fine Crackle', 'Normal', 'Normal', 'Fine Crackle', 'Fine Crackle', 'Normal', 'Fine Crackle', 'Normal', 'Wheeze', 'Normal', 'Normal', 'Normal', 'Normal', 'Normal', 'Normal', 'Normal', 'Normal', 'Normal', 'Fine Crackle', 'Normal', 'Fine Crackle', 'Normal', 'Normal', 'Normal', 'Normal', 'Fine Crackle', 'Normal', 'Normal', 'Fine Crackle', 'Normal', 'Fine Crackle', 'Normal', 'Normal', 'Normal', 'Normal', 'Normal', 'Normal', 'Normal', 'Normal', 'Normal', 'Normal', 'Normal', 'Normal', 'Normal', 'Normal', 'Normal', 'Wheeze', 'Wheeze', 'Normal', 'Wheeze', 'Fine Crackle', 'Normal', 'Normal', 'Normal', 'Fine Crackle', 'Normal', 'Wheeze', 'Normal', 'Normal', 'Normal', 'Normal', 'Normal', 'Normal', 'Normal', 'Normal', 'Normal', 'Normal', 'Fine Crackle', 'Normal', 'Fine Crackle', 'Normal', 'Normal', 'Normal', 'Normal', 'Fine Crackle', 'Normal', 'Normal', 'Fine Crackle', 'Normal', 'Normal', 'Normal', 'Normal', 'Normal', 'Normal', 'Fine Crackle', 'Normal', 'Fine Crackle', 'Normal', 'Fine Crackle', 'Normal', 'Normal', 'Wheeze', 'Normal', 'Normal', 'Normal', 'Normal', 'Normal', 'Fine Crackle', 'Normal', 'Normal', 'Normal', 'Normal', 'Normal', 'Normal', 'Normal', 'Normal', 'Fine Crackle', 'Normal', 'Normal', 'Normal', 'Fine Crackle', 'Fine Crackle', 'Normal', 'Normal', 'Normal', 'Normal', 'Normal', 'Normal', 'Normal', 'Normal', 'Normal', 'Normal', 'Normal', 'Normal', 'Wheeze', 'Normal', 'Fine Crackle', 'Normal', 'Normal', 'Fine Crackle', 'Normal', 'Wheeze', 'Wheeze', 'Normal', 'Fine Crackle', 'Normal', 'Normal', 'Normal', 'Normal', 'Normal', 'Fine Crackle', 'Normal', 'Normal', 'Normal', 'Normal', 'Normal', 'Normal', 'Wheeze', 'Normal', 'Normal', 'Normal', 'Fine Crackle', 'Normal', 'Normal', 'Normal', 'Fine Crackle', 'Fine Crackle', 'Normal', 'Normal', 'Normal', 'Normal', 'Normal', 'Normal', 'Normal', 'Normal', 'Normal', 'Normal', 'Normal', 'Normal', 'Normal', 'Normal', 'Normal', 'Fine Crackle', 'Normal', 'Fine Crackle', 'Normal', 'Normal', 'Fine Crackle', 'Normal', 'Normal', 'Normal', 'Normal', 'Normal', 'Normal', 'Normal', 'Normal', 'Normal', 'Normal', 'Normal', 'Normal', 'Normal', 'Wheeze', 'Normal', 'Normal', 'Normal', 'Normal', 'Normal', 'Wheeze', 'Normal', 'Normal', 'Fine Crackle', 'Normal', 'Fine Crackle', 'Normal', 'Normal', 'Normal', 'Coarse Crackle', 'Normal', 'Wheeze', 'Wheeze', 'Normal', 'Normal', 'Fine Crackle', 'Normal', 'Normal', 'Fine Crackle', 'Normal', 'Normal', 'Fine Crackle', 'Normal', 'Normal', 'Normal', 'Normal', 'Normal', 'Normal', 'Normal', 'Normal', 'Normal', 'Normal', 'Normal', 'Normal', 'Fine Crackle', 'Normal', 'Normal', 'Normal', 'Fine Crackle', 'Normal', 'Fine Crackle', 'Fine Crackle', 'Fine Crackle', 'Normal', 'Normal', 'Wheeze', 'Normal', 'Wheeze', 'Normal', 'Normal', 'Normal', 'Normal', 'Normal', 'Normal', 'Normal', 'Normal', 'Normal', 'Normal', 'Normal', 'Normal', 'Normal', 'Normal', 'Normal', 'Normal', 'Wheeze', 'Normal', 'Wheeze', 'Normal', 'Normal', 'Fine Crackle', 'Normal', 'Normal', 'Normal', 'Normal', 'Normal', 'Normal', 'Normal', 'Normal', 'Normal', 'Wheeze', 'Normal', 'Normal', 'Normal', 'Normal', 'Normal', 'Normal', 'Normal', 'Fine Crackle', 'Normal', 'Fine Crackle', 'Normal', 'Normal', 'Fine Crackle', 'Normal', 'Normal', 'Normal', 'Normal', 'Normal', 'Normal', 'Normal', 'Normal', 'Normal', 'Normal', 'Normal', 'Normal', 'Wheeze', 'Normal', 'Normal', 'Normal', 'Fine Crackle', 'Normal', 'Normal', 'Normal', 'Normal', 'Normal', 'Normal', 'Normal', 'Normal', 'Normal', 'Normal', 'Normal', 'Normal', 'Normal', 'Normal', 'Normal', 'Wheeze', 'Normal', 'Normal', 'Normal', 'Normal', 'Normal', 'Normal', 'Normal', 'Normal', 'Normal', 'Normal', 'Normal', 'Normal', 'Normal', 'Fine Crackle', 'Normal', 'Fine Crackle', 'Wheeze', 'Fine Crackle', 'Normal', 'Normal', 'Normal', 'Fine Crackle', 'Normal', 'Normal', 'Normal', 'Normal', 'Fine Crackle', 'Fine Crackle', 'Normal', 'Normal', 'Fine Crackle', 'Normal', 'Normal', 'Normal', 'Normal', 'Normal', 'Normal', 'Normal', 'Fine Crackle', 'Normal', 'Normal', 'Normal', 'Normal', 'Normal', 'Normal', 'Normal', 'Normal', 'Normal', 'Normal', 'Normal', 'Fine Crackle', 'Normal', 'Normal', 'Wheeze', 'Wheeze', 'Normal', 'Normal', 'Normal', 'Normal', 'Wheeze', 'Rhonchi', 'Normal', 'Normal', 'Normal', 'Normal', 'Normal', 'Normal', 'Normal', 'Fine Crackle', 'Normal', 'Fine Crackle', 'Wheeze', 'Normal', 'Fine Crackle', 'Normal', 'Normal', 'Normal', 'Normal', 'Normal', 'Normal', 'Normal', 'Fine Crackle', 'Wheeze', 'Fine Crackle', 'Normal', 'Normal', 'Normal', 'Normal', 'Normal', 'Normal', 'Normal', 'Normal', 'Normal', 'Normal', 'Fine Crackle', 'Normal', 'Fine Crackle', 'Normal', 'Normal', 'Wheeze', 'Normal', 'Fine Crackle', 'Normal', 'Normal', 'Fine Crackle', 'Normal', 'Normal', 'Normal', 'Normal', 'Fine Crackle', 'Normal', 'Normal', 'Normal', 'Normal', 'Wheeze', 'Normal', 'Normal', 'Normal', 'Normal', 'Normal', 'Wheeze', 'Normal', 'Normal', 'Normal', 'Normal', 'Fine Crackle', 'Normal', 'Wheeze', 'Normal', 'Rhonchi', 'Normal', 'Rhonchi', 'Normal', 'Wheeze', 'Normal', 'Normal', 'Normal', 'Normal', 'Normal', 'Normal', 'Normal', 'Normal', 'Normal', 'Wheeze', 'Normal', 'Normal', 'Wheeze', 'Normal', 'Normal', 'Normal', 'Normal', 'Fine Crackle', 'Fine Crackle', 'Fine Crackle', 'Normal', 'Fine Crackle', 'Normal', 'Normal', 'Fine Crackle', 'Normal', 'Normal', 'Normal', 'Normal', 'Normal', 'Normal', 'Normal', 'Normal', 'Wheeze', 'Normal', 'Normal', 'Wheeze', 'Normal', 'Normal', 'Normal', 'Wheeze', 'Normal', 'Normal', 'Fine Crackle', 'Wheeze', 'Normal', 'Normal', 'Normal', 'Normal', 'Normal', 'Normal', 'Normal', 'Normal', 'Normal', 'Wheeze', 'Normal', 'Normal', 'Fine Crackle', 'Normal', 'Normal', 'Normal', 'Wheeze', 'Normal', 'Normal', 'Normal', 'Normal', 'Normal', 'Normal', 'Normal', 'Normal', 'Normal', 'Fine Crackle', 'Fine Crackle', 'Normal', 'Normal', 'Wheeze', 'Normal', 'Normal', 'Normal', 'Wheeze', 'Normal', 'Normal', 'Normal', 'Normal', 'Normal', 'Normal', 'Normal', 'Normal', 'Normal', 'Wheeze', 'Normal', 'Normal', 'Normal', 'Normal', 'Normal', 'Normal', 'Normal', 'Normal', 'Normal', 'Wheeze', 'Normal', 'Normal', 'Normal', 'Normal', 'Normal', 'Normal', 'Normal', 'Normal', 'Normal', 'Normal', 'Normal', 'Normal', 'Normal', 'Normal', 'Normal', 'Normal', 'Wheeze', 'Fine Crackle', 'Normal', 'Normal', 'Normal', 'Normal', 'Normal', 'Fine Crackle', 'Normal', 'Normal', 'Normal', 'Normal', 'Normal', 'Wheeze', 'Normal', 'Wheeze', 'Normal', 'Fine Crackle', 'Fine Crackle', 'Normal', 'Fine Crackle', 'Normal', 'Normal', 'Normal', 'Fine Crackle', 'Normal', 'Normal', 'Normal', 'Normal', 'Normal', 'Wheeze', 'Normal', 'Fine Crackle', 'Normal', 'Normal', 'Normal', 'Wheeze+Crackle', 'Normal', 'Fine Crackle', 'Fine Crackle', 'Normal', 'Normal', 'Normal', 'Normal', 'Wheeze', 'Normal', 'Fine Crackle', 'Normal', 'Fine Crackle', 'Fine Crackle', 'Fine Crackle', 'Normal', 'Fine Crackle', 'Normal', 'Fine Crackle', 'Stridor', 'Normal', 'Normal', 'Normal', 'Normal', 'Normal', 'Normal', 'Normal', 'Normal', 'Fine Crackle', 'Normal', 'Normal', 'Normal', 'Wheeze', 'Normal', 'Fine Crackle', 'Normal', 'Normal', 'Normal', 'Normal', 'Normal', 'Normal', 'Normal', 'Normal', 'Fine Crackle', 'Normal', 'Normal', 'Normal', 'Normal', 'Normal', 'Wheeze', 'Normal', 'Normal', 'Normal', 'Normal', 'Normal', 'Normal', 'Normal', 'Fine Crackle', 'Fine Crackle', 'Normal', 'Normal', 'Normal', 'Normal', 'Normal', 'Normal', 'Normal', 'Wheeze', 'Normal', 'Normal', 'Normal', 'Normal', 'Normal', 'Normal', 'Normal', 'Normal', 'Normal', 'Normal', 'Normal', 'Fine Crackle', 'Normal', 'Normal', 'Coarse Crackle', 'Wheeze', 'Normal', 'Normal', 'Normal', 'Normal', 'Normal', 'Fine Crackle', 'Normal', 'Wheeze', 'Normal', 'Normal', 'Normal', 'Normal', 'Fine Crackle', 'Rhonchi', 'Normal', 'Normal', 'Normal', 'Normal', 'Fine Crackle', 'Fine Crackle', 'Normal', 'Normal', 'Normal', 'Wheeze', 'Fine Crackle', 'Normal', 'Normal', 'Normal', 'Normal', 'Normal', 'Wheeze', 'Normal', 'Normal', 'Normal', 'Normal', 'Wheeze', 'Normal', 'Normal', 'Normal', 'Normal', 'Normal', 'Normal', 'Normal', 'Fine Crackle', 'Normal', 'Normal', 'Normal', 'Normal', 'Normal', 'Normal', 'Normal', 'Fine Crackle', 'Normal', 'Normal', 'Normal', 'Wheeze', 'Normal', 'Normal', 'Normal', 'Normal', 'Normal', 'Normal', 'Normal', 'Normal', 'Normal', 'Normal', 'Normal', 'Fine Crackle', 'Wheeze', 'Normal', 'Wheeze+Crackle', 'Normal', 'Normal', 'Normal', 'Wheeze+Crackle', 'Normal', 'Normal', 'Fine Crackle', 'Normal', 'Fine Crackle', 'Normal', 'Normal', 'Normal', 'Normal', 'Normal', 'Wheeze', 'Normal', 'Fine Crackle', 'Normal', 'Normal', 'Wheeze', 'Normal', 'Normal', 'Fine Crackle', 'Normal', 'Normal', 'Normal', 'Normal', 'Normal', 'Normal', 'Normal', 'Normal', 'Fine Crackle', 'Normal', 'Normal', 'Fine Crackle', 'Normal', 'Fine Crackle', 'Normal', 'Normal', 'Coarse Crackle', 'Wheeze', 'Normal', 'Normal', 'Fine Crackle', 'Normal', 'Normal', 'Normal', 'Normal', 'Normal', 'Fine Crackle', 'Normal', 'Normal', 'Fine Crackle', 'Normal', 'Normal', 'Normal', 'Normal', 'Normal', 'Normal', 'Fine Crackle', 'Fine Crackle', 'Normal', 'Normal', 'Normal', 'Normal', 'Normal', 'Fine Crackle', 'Normal', 'Normal', 'Fine Crackle', 'Normal', 'Wheeze', 'Normal', 'Normal', 'Normal', 'Normal', 'Normal', 'Normal', 'Normal', 'Normal', 'Normal', 'Fine Crackle', 'Fine Crackle', 'Fine Crackle', 'Normal', 'Normal', 'Fine Crackle', 'Normal', 'Fine Crackle', 'Wheeze', 'Normal', 'Normal', 'Fine Crackle', 'Stridor', 'Normal', 'Normal', 'Normal', 'Normal', 'Wheeze', 'Fine Crackle', 'Rhonchi', 'Normal', 'Normal', 'Normal', 'Normal', 'Normal', 'Wheeze', 'Normal', 'Normal', 'Normal', 'Normal', 'Normal', 'Normal', 'Fine Crackle', 'Normal', 'Wheeze', 'Fine Crackle', 'Normal', 'Normal', 'Fine Crackle', 'Normal', 'Normal', 'Fine Crackle', 'Normal', 'Normal', 'Normal', 'Normal', 'Normal', 'Normal', 'Wheeze', 'Normal', 'Normal', 'Normal', 'Fine Crackle', 'Normal', 'Normal', 'Normal', 'Normal', 'Normal', 'Normal', 'Normal', 'Normal', 'Normal', 'Normal', 'Rhonchi', 'Wheeze', 'Normal', 'Normal', 'Fine Crackle', 'Normal', 'Normal', 'Fine Crackle', 'Normal', 'Fine Crackle', 'Fine Crackle', 'Wheeze+Crackle', 'Normal', 'Normal', 'Normal', 'Normal', 'Normal', 'Normal', 'Normal', 'Wheeze', 'Normal', 'Normal', 'Normal', 'Normal', 'Normal', 'Wheeze', 'Wheeze', 'Normal', 'Normal', 'Fine Crackle', 'Fine Crackle', 'Normal', 'Normal', 'Normal', 'Normal', 'Normal', 'Normal', 'Normal', 'Fine Crackle', 'Normal', 'Normal', 'Normal', 'Normal', 'Normal', 'Normal', 'Normal', 'Normal', 'Normal', 'Fine Crackle', 'Wheeze+Crackle', 'Normal', 'Normal', 'Fine Crackle', 'Normal', 'Normal', 'Normal', 'Stridor', 'Fine Crackle', 'Wheeze', 'Normal', 'Normal', 'Normal', 'Normal', 'Normal', 'Wheeze', 'Normal', 'Normal', 'Fine Crackle', 'Normal', 'Normal', 'Normal', 'Normal', 'Normal', 'Normal', 'Normal', 'Normal', 'Normal', 'Fine Crackle', 'Normal', 'Fine Crackle', 'Normal', 'Normal', 'Normal', 'Normal', 'Normal', 'Fine Crackle', 'Fine Crackle', 'Normal', 'Normal', 'Normal', 'Wheeze', 'Normal', 'Normal', 'Normal', 'Normal', 'Normal', 'Normal', 'Normal', 'Normal', 'Wheeze', 'Normal', 'Fine Crackle', 'Normal', 'Normal', 'Fine Crackle', 'Normal', 'Normal', 'Fine Crackle', 'Normal', 'Wheeze', 'Normal', 'Normal', 'Normal', 'Normal', 'Normal', 'Fine Crackle', 'Normal', 'Normal', 'Fine Crackle', 'Normal', 'Fine Crackle', 'Normal', 'Fine Crackle', 'Normal', 'Normal', 'Normal', 'Normal', 'Normal', 'Normal', 'Normal', 'Normal', 'Fine Crackle', 'Normal', 'Normal', 'Normal', 'Fine Crackle', 'Normal', 'Normal', 'Normal', 'Fine Crackle', 'Fine Crackle', 'Normal', 'Rhonchi', 'Fine Crackle', 'Normal', 'Normal', 'Normal', 'Normal', 'Normal', 'Normal', 'Normal', 'Normal', 'Normal', 'Fine Crackle', 'Fine Crackle', 'Normal', 'Normal', 'Normal', 'Fine Crackle', 'Normal', 'Normal', 'Normal', 'Normal', 'Normal', 'Normal', 'Normal', 'Normal', 'Fine Crackle', 'Normal', 'Normal', 'Normal', 'Normal', 'Normal', 'Normal', 'Normal', 'Normal', 'Normal', 'Normal', 'Rhonchi', 'Normal', 'Normal', 'Normal', 'Fine Crackle', 'Normal', 'Fine Crackle', 'Normal', 'Fine Crackle', 'Normal', 'Normal', 'Wheeze', 'Normal', 'Normal', 'Normal', 'Normal', 'Fine Crackle', 'Normal', 'Normal', 'Normal', 'Normal', 'Rhonchi', 'Normal', 'Normal', 'Normal', 'Fine Crackle', 'Normal', 'Normal', 'Normal', 'Normal', 'Fine Crackle', 'Normal', 'Wheeze', 'Fine Crackle', 'Normal', 'Normal', 'Normal', 'Normal', 'Normal', 'Normal', 'Normal', 'Normal', 'Normal', 'Normal', 'Fine Crackle', 'Normal', 'Fine Crackle', 'Normal', 'Normal', 'Normal', 'Normal', 'Fine Crackle', 'Fine Crackle', 'Fine Crackle', 'Normal', 'Normal', 'Normal', 'Normal', 'Normal', 'Normal', 'Normal', 'Normal', 'Fine Crackle', 'Normal', 'Normal', 'Normal', 'Normal', 'Fine Crackle', 'Normal', 'Normal', 'Normal', 'Fine Crackle', 'Normal', 'Normal', 'Normal', 'Normal', 'Normal', 'Normal', 'Normal', 'Normal', 'Normal', 'Normal', 'Normal', 'Normal', 'Normal', 'Normal', 'Normal', 'Normal', 'Normal', 'Normal', 'Normal', 'Normal', 'Normal', 'Normal', 'Normal', 'Wheeze+Crackle', 'Normal', 'Fine Crackle', 'Normal', 'Normal', 'Normal', 'Normal', 'Fine Crackle', 'Normal', 'Normal', 'Normal', 'Normal', 'Normal', 'Normal', 'Wheeze', 'Normal', 'Normal', 'Normal', 'Normal', 'Wheeze', 'Normal', 'Normal', 'Normal', 'Normal', 'Wheeze', 'Normal', 'Normal', 'Normal', 'Normal', 'Normal', 'Normal', 'Normal', 'Fine Crackle', 'Wheeze', 'Normal', 'Normal', 'Fine Crackle', 'Normal', 'Normal', 'Normal', 'Normal', 'Fine Crackle', 'Normal', 'Fine Crackle', 'Normal', 'Fine Crackle', 'Normal', 'Fine Crackle', 'Normal', 'Fine Crackle', 'Normal', 'Normal', 'Normal', 'Normal', 'Normal', 'Normal', 'Normal', 'Normal', 'Normal', 'Fine Crackle', 'Normal', 'Normal', 'Normal', 'Normal', 'Normal', 'Normal', 'Normal', 'Fine Crackle', 'Normal', 'Normal', 'Normal', 'Fine Crackle', 'Normal', 'Wheeze', 'Normal', 'Normal', 'Normal', 'Normal', 'Normal', 'Fine Crackle', 'Normal', 'Normal', 'Normal', 'Normal', 'Normal', 'Normal', 'Normal', 'Normal', 'Fine Crackle', 'Normal', 'Normal', 'Normal', 'Normal', 'Fine Crackle', 'Normal', 'Normal', 'Fine Crackle', 'Normal', 'Fine Crackle', 'Normal', 'Normal', 'Normal', 'Fine Crackle', 'Normal', 'Normal', 'Normal', 'Normal', 'Normal', 'Normal', 'Normal', 'Fine Crackle', 'Normal', 'Fine Crackle', 'Normal', 'Wheeze', 'Normal', 'Fine Crackle', 'Coarse Crackle', 'Normal', 'Wheeze', 'Normal', 'Normal', 'Wheeze', 'Normal', 'Wheeze', 'Normal', 'Normal', 'Normal', 'Fine Crackle', 'Normal', 'Normal', 'Normal', 'Normal', 'Fine Crackle', 'Normal', 'Normal', 'Fine Crackle', 'Normal', 'Wheeze', 'Fine Crackle', 'Fine Crackle', 'Normal', 'Normal', 'Normal', 'Normal', 'Fine Crackle', 'Normal', 'Fine Crackle', 'Stridor', 'Normal', 'Normal', 'Normal', 'Normal', 'Normal', 'Wheeze', 'Normal', 'Normal', 'Normal', 'Normal', 'Normal', 'Wheeze', 'Normal', 'Normal', 'Fine Crackle', 'Fine Crackle', 'Normal', 'Normal', 'Normal', 'Normal', 'Normal', 'Normal', 'Fine Crackle', 'Normal', 'Normal', 'Fine Crackle', 'Normal', 'Normal', 'Normal', 'Normal', 'Fine Crackle', 'Wheeze+Crackle', 'Normal', 'Normal', 'Normal', 'Normal', 'Normal', 'Fine Crackle', 'Wheeze', 'Fine Crackle', 'Normal', 'Normal', 'Normal', 'Normal', 'Normal', 'Fine Crackle', 'Normal', 'Normal', 'Normal', 'Normal', 'Normal', 'Normal', 'Normal', 'Normal', 'Fine Crackle', 'Normal', 'Normal', 'Fine Crackle', 'Normal', 'Normal', 'Normal', 'Normal', 'Normal', 'Normal', 'Normal', 'Normal', 'Normal', 'Rhonchi', 'Normal', 'Normal', 'Normal', 'Fine Crackle', 'Fine Crackle', 'Normal', 'Wheeze', 'Normal', 'Normal', 'Normal', 'Normal', 'Normal', 'Normal', 'Normal', 'Normal', 'Wheeze', 'Fine Crackle', 'Normal', 'Normal', 'Normal', 'Normal', 'Normal', 'Normal', 'Normal', 'Normal', 'Normal', 'Normal', 'Normal', 'Normal', 'Normal', 'Normal', 'Normal', 'Normal', 'Normal', 'Normal', 'Normal', 'Fine Crackle', 'Normal', 'Normal', 'Normal', 'Normal', 'Normal', 'Normal', 'Normal', 'Fine Crackle', 'Normal', 'Normal', 'Fine Crackle', 'Normal', 'Normal', 'Normal', 'Normal', 'Normal', 'Normal', 'Normal', 'Normal', 'Fine Crackle', 'Normal', 'Normal', 'Normal', 'Normal', 'Normal', 'Normal', 'Normal', 'Fine Crackle', 'Normal', 'Normal', 'Normal', 'Wheeze', 'Normal', 'Normal', 'Normal', 'Normal', 'Normal', 'Normal', 'Normal', 'Normal', 'Normal', 'Normal', 'Normal', 'Normal', 'Normal', 'Normal', 'Wheeze+Crackle', 'Normal', 'Normal']\n"
     ]
    }
   ],
   "source": [
    "# read the wav file from folder splitted training and return X and y where X is the wav file and y is the label that is the last word of the name of the wav\n",
    "def create_X_y(wav_file):\n",
    "    y, sr = af.read(wav_file)\n",
    "    label = os.path.splitext(os.path.basename(wav_file))[0].split('_')[-1]\n",
    "    return y, label\n",
    "\n",
    "def create_X_y_list(wav_files):\n",
    "    X = []\n",
    "    y = []\n",
    "    for wav_file in wav_files:\n",
    "        y_, label = create_X_y(wav_file)\n",
    "        X.append(y_)\n",
    "        y.append(label)\n",
    "    return X, y\n",
    "\n",
    "X_train, y_train = create_X_y_list(train_wav_list_splitted)\n",
    "\n",
    "print(X_train[0])\n",
    "print((y_train))"
   ]
  },
  {
   "cell_type": "code",
   "execution_count": 19,
   "metadata": {},
   "outputs": [],
   "source": [
    "def pad_to_max_duration(X, durations,max_duration=None):\n",
    "    if max_duration is None:\n",
    "        max_duration = len(X_train[np.argmax(train_durations)])\n",
    "    padded_list = []\n",
    "    for y in X:\n",
    "        pad_width = max_duration - len(y)\n",
    "        pad_before = pad_width // 2\n",
    "        pad_after = pad_width - pad_before\n",
    "\n",
    "        y_padded = np.pad(y, (pad_before, pad_after), mode='constant')\n",
    "        padded_list.append(y_padded)\n",
    "\n",
    "    return np.array(padded_list)\n"
   ]
  },
  {
   "cell_type": "code",
   "execution_count": 20,
   "metadata": {},
   "outputs": [],
   "source": [
    "X_train_padded = pad_to_max_duration(X=X_train, durations=train_durations)\n",
    "\n",
    "\n",
    "# combined_array = np.column_stack((X_train_padded, y_train))\n",
    "\n",
    "# np.savetxt('train_classification.csv', combined_array, delimiter=',', fmt='%s')"
   ]
  },
  {
   "cell_type": "code",
   "execution_count": 21,
   "metadata": {},
   "outputs": [],
   "source": [
    "# # load back the csv file\n",
    "# df = pd.read_csv('train_classification.csv', header=None)\n",
    "# X_train_padded_read = df.iloc[:, :-1].values\n",
    "# y_train_read = df.iloc[:, -1].values"
   ]
  },
  {
   "cell_type": "code",
   "execution_count": null,
   "metadata": {},
   "outputs": [],
   "source": []
  },
  {
   "cell_type": "code",
   "execution_count": 22,
   "metadata": {},
   "outputs": [
    {
     "name": "stdout",
     "output_type": "stream",
     "text": [
      "The mean duration of the training files is: 7.152\n"
     ]
    }
   ],
   "source": [
    "# calculate the duration of the wav files\n",
    "def get_duration(y):\n",
    "    return len(y) / 4000\n",
    "\n",
    "# calculate the duration of all the wav files\n",
    "def get_durations(X):\n",
    "    durations = []\n",
    "    for y in X:\n",
    "        duration = get_duration(y)\n",
    "        durations.append(duration)\n",
    "    return durations\n",
    "\n",
    "train_durations = get_durations(X_train_padded)\n",
    "print(f\"The mean duration of the training files is: {np.mean(train_durations):.3f}\")"
   ]
  },
  {
   "cell_type": "code",
   "execution_count": 23,
   "metadata": {},
   "outputs": [
    {
     "name": "stdout",
     "output_type": "stream",
     "text": [
      "The mean duration of the test files is: 1.396\n",
      "The max duration of the test files is: 4.967\n"
     ]
    }
   ],
   "source": [
    "# get inter test durations\n",
    "X_test_inter, y_test_inter = create_X_y_list(test_inter_wav_list_splitted)\n",
    "x_test_durations=get_durations(X_test_inter)\n",
    "print(f\"The mean duration of the test files is: {np.mean(x_test_durations):.3f}\")\n",
    "print(f\"The max duration of the test files is: {np.max(x_test_durations):.3f}\")"
   ]
  },
  {
   "cell_type": "code",
   "execution_count": 24,
   "metadata": {},
   "outputs": [],
   "source": [
    "# do the same for inter test but pad the files to the max duration of the training files\n",
    "X_test_inter, y_test_inter = create_X_y_list(test_inter_wav_list_splitted)\n",
    "X_test_inter_padded = pad_to_max_duration(X=X_test_inter,durations= x_test_durations,max_duration=len(X_train_padded[0]))\n",
    "\n"
   ]
  },
  {
   "cell_type": "code",
   "execution_count": 25,
   "metadata": {},
   "outputs": [
    {
     "name": "stdout",
     "output_type": "stream",
     "text": [
      "The mean duration of the test files is: 7.152\n",
      "The max duration of the test files is: 7.152\n",
      "The min duration of the test files is: 7.152\n"
     ]
    }
   ],
   "source": [
    "print(f\"The mean duration of the test files is: {np.mean(get_durations(X_test_inter_padded)):.3f}\")\n",
    "print(f\"The max duration of the test files is: {np.max(get_durations(X_test_inter_padded)):.3f}\")\n",
    "print(f\"The min duration of the test files is: {np.min(get_durations(X_test_inter_padded)):.3f}\")"
   ]
  },
  {
   "cell_type": "code",
   "execution_count": 26,
   "metadata": {},
   "outputs": [],
   "source": [
    "# save in csv file\n",
    "combined_array = np.column_stack((X_test_inter_padded, y_test_inter))\n",
    "np.savetxt('test_inter_classification.csv', combined_array, delimiter=',', fmt='%s')\n"
   ]
  },
  {
   "cell_type": "code",
   "execution_count": 27,
   "metadata": {},
   "outputs": [],
   "source": [
    "# save both in npz files\n",
    "np.savez('train_classification.npz', X=X_train_padded, y=y_train)\n",
    "np.savez('test_inter_classification.npz', X=X_test_inter_padded, y=y_test_inter)"
   ]
  },
  {
   "cell_type": "code",
   "execution_count": 28,
   "metadata": {},
   "outputs": [
    {
     "name": "stdout",
     "output_type": "stream",
     "text": [
      "The mean duration of the test files is: 7.152\n",
      "The max duration of the test files is: 7.152\n",
      "The min duration of the test files is: 7.152\n"
     ]
    }
   ],
   "source": [
    "# do the same for intra test but pad the files to the max duration of the training files\n",
    "X_test_intra, y_test_intra = create_X_y_list(test_intra_wav_list_splitted)\n",
    "X_test_intra_padded = pad_to_max_duration(X=X_test_intra,durations= x_test_durations,max_duration=len(X_train_padded[0]))\n",
    "\n",
    "print(f\"The mean duration of the test files is: {np.mean(get_durations(X_test_intra_padded)):.3f}\")\n",
    "print(f\"The max duration of the test files is: {np.max(get_durations(X_test_intra_padded)):.3f}\")\n",
    "print(f\"The min duration of the test files is: {np.min(get_durations(X_test_intra_padded)):.3f}\")\n",
    "\n",
    "# save in npz file\n",
    "\n"
   ]
  },
  {
   "cell_type": "code",
   "execution_count": 29,
   "metadata": {},
   "outputs": [],
   "source": [
    "# read all the samples and the samples that are not labeled as normal,duplicate them and add them to the dataset and save this dataset to a different .npz file\n",
    "# read the npz file\n",
    "data = np.load('train_classification.npz')\n",
    "X_train_padded = data['X']\n",
    "y_train = data['y']\n",
    "\n",
    "# get the indices of the samples that are not labeled as normal\n",
    "indices = [i for i, label in enumerate(y_train) if label != 'Normal']\n",
    "# get the samples that are not labeled as normal\n",
    "X_train_padded_abnormal = X_train_padded[indices]\n",
    "y_train_abnormal = y_train[indices]\n",
    "\n",
    "# duplicate the abnormal samples\n",
    "num_duplicates = 2\n",
    "X_train_padded_abnormal_duplicated = np.repeat(X_train_padded_abnormal, num_duplicates, axis=0)\n",
    "y_train_abnormal_duplicated = np.repeat(y_train_abnormal, num_duplicates, axis=0)\n",
    "\n",
    "# combine the normal and abnormal samples\n",
    "X_train_padded_combined = np.concatenate((X_train_padded, X_train_padded_abnormal_duplicated))\n",
    "y_train_combined = np.concatenate((y_train, y_train_abnormal_duplicated))\n",
    "\n",
    "# print the distribution of the labels\n",
    "unique_labels, counts = np.unique(y_train_combined, return_counts=True)\n",
    "print(dict(zip(unique_labels, counts)))\n",
    "\n",
    "# save the combined dataset\n",
    "np.savez('train_classification_combined.npz', X=X_train_padded_combined, y=y_train_combined)"
   ]
  }
 ],
 "metadata": {
  "kernelspec": {
   "display_name": "praktiki",
   "language": "python",
   "name": "python3"
  },
  "language_info": {
   "codemirror_mode": {
    "name": "ipython",
    "version": 3
   },
   "file_extension": ".py",
   "mimetype": "text/x-python",
   "name": "python",
   "nbconvert_exporter": "python",
   "pygments_lexer": "ipython3",
   "version": "3.10.13"
  }
 },
 "nbformat": 4,
 "nbformat_minor": 2
}
